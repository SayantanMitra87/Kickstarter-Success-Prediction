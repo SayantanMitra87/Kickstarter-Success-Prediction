{
 "cells": [
  {
   "cell_type": "code",
   "execution_count": 1,
   "metadata": {
    "collapsed": true
   },
   "outputs": [],
   "source": [
    "from IPython.core.interactiveshell import InteractiveShell\n",
    "InteractiveShell.ast_node_interactivity = \"all\"\n",
    "\n",
    "\n",
    "import pandas as pd\n",
    "import numpy as np\n",
    "import matplotlib.pyplot as plt\n",
    "import matplotlib\n",
    "import seaborn as sns\n",
    "import datetime\n",
    "%matplotlib inline\n",
    "\n",
    "#For converting different currencies to USD\n",
    "from forex_python.converter import CurrencyRates\n",
    "\n",
    "#Counting the number of occurences of words\n",
    "from sklearn.feature_extraction.text import CountVectorizer\n",
    "\n",
    "#lexicon and rule-based sentiment analysis tool \n",
    "from vaderSentiment.vaderSentiment import SentimentIntensityAnalyzer\n",
    "\n",
    "#Preprocessing\n",
    "from sklearn import preprocessing\n",
    "\n",
    "# machine learning\n",
    "from sklearn.linear_model import LogisticRegression\n",
    "from sklearn.svm import SVC, LinearSVC\n",
    "from sklearn.ensemble import RandomForestClassifier\n",
    "from sklearn.neighbors import KNeighborsClassifier\n",
    "from sklearn.naive_bayes import GaussianNB\n",
    "from sklearn.linear_model import Perceptron\n",
    "from sklearn.linear_model import SGDClassifier\n",
    "from sklearn.tree import DecisionTreeClassifier"
   ]
  },
  {
   "cell_type": "code",
   "execution_count": 2,
   "metadata": {
    "collapsed": true
   },
   "outputs": [],
   "source": [
    "import glob\n",
    "import os\n",
    "import json"
   ]
  },
  {
   "cell_type": "markdown",
   "metadata": {},
   "source": [
    "Data from https://webrobots.io/kickstarter-datasets/"
   ]
  },
  {
   "cell_type": "markdown",
   "metadata": {},
   "source": [
    "## Data Wrangling"
   ]
  },
  {
   "cell_type": "code",
   "execution_count": 3,
   "metadata": {},
   "outputs": [
    {
     "name": "stderr",
     "output_type": "stream",
     "text": [
      "C:\\Program Files\\Anaconda3\\lib\\site-packages\\ipykernel\\__main__.py:5: DtypeWarning: Columns (29,30,31,32) have mixed types. Specify dtype option on import or set low_memory=False.\n",
      "C:\\Program Files\\Anaconda3\\lib\\site-packages\\ipykernel\\__main__.py:5: DtypeWarning: Columns (30,31,32,33) have mixed types. Specify dtype option on import or set low_memory=False.\n",
      "C:\\Program Files\\Anaconda3\\lib\\site-packages\\ipykernel\\__main__.py:5: DtypeWarning: Columns (33,34,35,36) have mixed types. Specify dtype option on import or set low_memory=False.\n"
     ]
    }
   ],
   "source": [
    "path =r'D:\\Github Repos\\Projects\\Kickstarter_project\\data\\kickstarter\\KS\\KS1' \n",
    "all_files = glob.glob(os.path.join(path, \"*.csv\"))     \n",
    "\n",
    "df_from_each_file = (pd.read_csv(f, encoding='latin1', index_col=0) for f in all_files)\n",
    "concatenated_df   = pd.concat(df_from_each_file, ignore_index=True)\n"
   ]
  },
  {
   "cell_type": "code",
   "execution_count": 4,
   "metadata": {
    "collapsed": true
   },
   "outputs": [],
   "source": [
    "#Scraped data contains multiple entries of same project, keeping only the first entry\n",
    "concatenated_df.drop_duplicates(subset='id', keep=\"first\", inplace=True )"
   ]
  },
  {
   "cell_type": "code",
   "execution_count": 5,
   "metadata": {},
   "outputs": [
    {
     "data": {
      "text/plain": [
       "226644"
      ]
     },
     "execution_count": 5,
     "metadata": {},
     "output_type": "execute_result"
    },
    {
     "data": {
      "text/html": [
       "<div>\n",
       "<style>\n",
       "    .dataframe thead tr:only-child th {\n",
       "        text-align: right;\n",
       "    }\n",
       "\n",
       "    .dataframe thead th {\n",
       "        text-align: left;\n",
       "    }\n",
       "\n",
       "    .dataframe tbody tr th {\n",
       "        vertical-align: top;\n",
       "    }\n",
       "</style>\n",
       "<table border=\"1\" class=\"dataframe\">\n",
       "  <thead>\n",
       "    <tr style=\"text-align: right;\">\n",
       "      <th></th>\n",
       "      <th>backers_count</th>\n",
       "      <th>blurb</th>\n",
       "      <th>category</th>\n",
       "      <th>converted_pledged_amount</th>\n",
       "      <th>country</th>\n",
       "      <th>created_at</th>\n",
       "      <th>creator</th>\n",
       "      <th>currency</th>\n",
       "      <th>currency_symbol</th>\n",
       "      <th>currency_trailing_code</th>\n",
       "      <th>...</th>\n",
       "      <th>slug</th>\n",
       "      <th>source_url</th>\n",
       "      <th>spotlight</th>\n",
       "      <th>staff_pick</th>\n",
       "      <th>state</th>\n",
       "      <th>state_changed_at</th>\n",
       "      <th>static_usd_rate</th>\n",
       "      <th>urls</th>\n",
       "      <th>usd_pledged</th>\n",
       "      <th>usd_type</th>\n",
       "    </tr>\n",
       "  </thead>\n",
       "  <tbody>\n",
       "    <tr>\n",
       "      <th>0</th>\n",
       "      <td>12</td>\n",
       "      <td>Debauchery, laughter, violence and politics. W...</td>\n",
       "      <td>{\"urls\":{\"web\":{\"discover\":\"http://www.kicksta...</td>\n",
       "      <td>NaN</td>\n",
       "      <td>GB</td>\n",
       "      <td>1431610619</td>\n",
       "      <td>{\"urls\":{\"web\":{\"user\":\"https://www.kickstarte...</td>\n",
       "      <td>GBP</td>\n",
       "      <td>£</td>\n",
       "      <td>False</td>\n",
       "      <td>...</td>\n",
       "      <td>royal-holloways-drama-society-presents-posh</td>\n",
       "      <td>https://www.kickstarter.com/discover/categorie...</td>\n",
       "      <td>True</td>\n",
       "      <td>False</td>\n",
       "      <td>successful</td>\n",
       "      <td>1433113212</td>\n",
       "      <td>1.572673</td>\n",
       "      <td>{\"web\":{\"project\":\"https://www.kickstarter.com...</td>\n",
       "      <td>379.014248</td>\n",
       "      <td>NaN</td>\n",
       "    </tr>\n",
       "    <tr>\n",
       "      <th>1</th>\n",
       "      <td>40</td>\n",
       "      <td>Bring a touring character education play about...</td>\n",
       "      <td>{\"urls\":{\"web\":{\"discover\":\"http://www.kicksta...</td>\n",
       "      <td>NaN</td>\n",
       "      <td>US</td>\n",
       "      <td>1402512498</td>\n",
       "      <td>{\"urls\":{\"web\":{\"user\":\"https://www.kickstarte...</td>\n",
       "      <td>USD</td>\n",
       "      <td>$</td>\n",
       "      <td>True</td>\n",
       "      <td>...</td>\n",
       "      <td>kylie-for-president</td>\n",
       "      <td>https://www.kickstarter.com/discover/categorie...</td>\n",
       "      <td>True</td>\n",
       "      <td>False</td>\n",
       "      <td>successful</td>\n",
       "      <td>1405915140</td>\n",
       "      <td>1.000000</td>\n",
       "      <td>{\"web\":{\"project\":\"https://www.kickstarter.com...</td>\n",
       "      <td>3530.000000</td>\n",
       "      <td>NaN</td>\n",
       "    </tr>\n",
       "    <tr>\n",
       "      <th>2</th>\n",
       "      <td>57</td>\n",
       "      <td>1984. An IRA bomb explodes at the Grand Hotel....</td>\n",
       "      <td>{\"urls\":{\"web\":{\"discover\":\"http://www.kicksta...</td>\n",
       "      <td>NaN</td>\n",
       "      <td>GB</td>\n",
       "      <td>1408884944</td>\n",
       "      <td>{\"urls\":{\"web\":{\"user\":\"https://www.kickstarte...</td>\n",
       "      <td>GBP</td>\n",
       "      <td>£</td>\n",
       "      <td>False</td>\n",
       "      <td>...</td>\n",
       "      <td>the-bombing-of-the-grand-hotel-a-compelling-ne...</td>\n",
       "      <td>https://www.kickstarter.com/discover/categorie...</td>\n",
       "      <td>True</td>\n",
       "      <td>False</td>\n",
       "      <td>successful</td>\n",
       "      <td>1411771384</td>\n",
       "      <td>1.658939</td>\n",
       "      <td>{\"web\":{\"project\":\"https://www.kickstarter.com...</td>\n",
       "      <td>5053.127524</td>\n",
       "      <td>NaN</td>\n",
       "    </tr>\n",
       "    <tr>\n",
       "      <th>3</th>\n",
       "      <td>114</td>\n",
       "      <td>Zoe is a teenage girl growing up in a deeply d...</td>\n",
       "      <td>{\"urls\":{\"web\":{\"discover\":\"http://www.kicksta...</td>\n",
       "      <td>NaN</td>\n",
       "      <td>GB</td>\n",
       "      <td>1406837195</td>\n",
       "      <td>{\"urls\":{\"web\":{\"user\":\"https://www.kickstarte...</td>\n",
       "      <td>GBP</td>\n",
       "      <td>£</td>\n",
       "      <td>False</td>\n",
       "      <td>...</td>\n",
       "      <td>child-z</td>\n",
       "      <td>https://www.kickstarter.com/discover/categorie...</td>\n",
       "      <td>True</td>\n",
       "      <td>False</td>\n",
       "      <td>successful</td>\n",
       "      <td>1415191920</td>\n",
       "      <td>1.618854</td>\n",
       "      <td>{\"web\":{\"project\":\"https://www.kickstarter.com...</td>\n",
       "      <td>7357.690612</td>\n",
       "      <td>NaN</td>\n",
       "    </tr>\n",
       "    <tr>\n",
       "      <th>4</th>\n",
       "      <td>31</td>\n",
       "      <td>Theaterprojekt 12. Kl. Waldorfschule Essen. 2 ...</td>\n",
       "      <td>{\"urls\":{\"web\":{\"discover\":\"http://www.kicksta...</td>\n",
       "      <td>NaN</td>\n",
       "      <td>DE</td>\n",
       "      <td>1467313927</td>\n",
       "      <td>{\"urls\":{\"web\":{\"user\":\"https://www.kickstarte...</td>\n",
       "      <td>EUR</td>\n",
       "      <td></td>\n",
       "      <td>False</td>\n",
       "      <td>...</td>\n",
       "      <td>fausthier-und-jetzt</td>\n",
       "      <td>https://www.kickstarter.com/discover/categorie...</td>\n",
       "      <td>True</td>\n",
       "      <td>False</td>\n",
       "      <td>successful</td>\n",
       "      <td>1472936230</td>\n",
       "      <td>1.113958</td>\n",
       "      <td>{\"web\":{\"project\":\"https://www.kickstarter.com...</td>\n",
       "      <td>5012.810505</td>\n",
       "      <td>NaN</td>\n",
       "    </tr>\n",
       "  </tbody>\n",
       "</table>\n",
       "<p>5 rows × 36 columns</p>\n",
       "</div>"
      ],
      "text/plain": [
       "   backers_count                                              blurb  \\\n",
       "0             12  Debauchery, laughter, violence and politics. W...   \n",
       "1             40  Bring a touring character education play about...   \n",
       "2             57  1984. An IRA bomb explodes at the Grand Hotel....   \n",
       "3            114  Zoe is a teenage girl growing up in a deeply d...   \n",
       "4             31  Theaterprojekt 12. Kl. Waldorfschule Essen. 2 ...   \n",
       "\n",
       "                                            category  \\\n",
       "0  {\"urls\":{\"web\":{\"discover\":\"http://www.kicksta...   \n",
       "1  {\"urls\":{\"web\":{\"discover\":\"http://www.kicksta...   \n",
       "2  {\"urls\":{\"web\":{\"discover\":\"http://www.kicksta...   \n",
       "3  {\"urls\":{\"web\":{\"discover\":\"http://www.kicksta...   \n",
       "4  {\"urls\":{\"web\":{\"discover\":\"http://www.kicksta...   \n",
       "\n",
       "   converted_pledged_amount country  created_at  \\\n",
       "0                       NaN      GB  1431610619   \n",
       "1                       NaN      US  1402512498   \n",
       "2                       NaN      GB  1408884944   \n",
       "3                       NaN      GB  1406837195   \n",
       "4                       NaN      DE  1467313927   \n",
       "\n",
       "                                             creator currency currency_symbol  \\\n",
       "0  {\"urls\":{\"web\":{\"user\":\"https://www.kickstarte...      GBP               £   \n",
       "1  {\"urls\":{\"web\":{\"user\":\"https://www.kickstarte...      USD               $   \n",
       "2  {\"urls\":{\"web\":{\"user\":\"https://www.kickstarte...      GBP               £   \n",
       "3  {\"urls\":{\"web\":{\"user\":\"https://www.kickstarte...      GBP               £   \n",
       "4  {\"urls\":{\"web\":{\"user\":\"https://www.kickstarte...      EUR                  \n",
       "\n",
       "   currency_trailing_code    ...     \\\n",
       "0                   False    ...      \n",
       "1                    True    ...      \n",
       "2                   False    ...      \n",
       "3                   False    ...      \n",
       "4                   False    ...      \n",
       "\n",
       "                                                slug  \\\n",
       "0        royal-holloways-drama-society-presents-posh   \n",
       "1                                kylie-for-president   \n",
       "2  the-bombing-of-the-grand-hotel-a-compelling-ne...   \n",
       "3                                            child-z   \n",
       "4                                fausthier-und-jetzt   \n",
       "\n",
       "                                          source_url  spotlight staff_pick  \\\n",
       "0  https://www.kickstarter.com/discover/categorie...       True      False   \n",
       "1  https://www.kickstarter.com/discover/categorie...       True      False   \n",
       "2  https://www.kickstarter.com/discover/categorie...       True      False   \n",
       "3  https://www.kickstarter.com/discover/categorie...       True      False   \n",
       "4  https://www.kickstarter.com/discover/categorie...       True      False   \n",
       "\n",
       "        state  state_changed_at static_usd_rate  \\\n",
       "0  successful        1433113212        1.572673   \n",
       "1  successful        1405915140        1.000000   \n",
       "2  successful        1411771384        1.658939   \n",
       "3  successful        1415191920        1.618854   \n",
       "4  successful        1472936230        1.113958   \n",
       "\n",
       "                                                urls  usd_pledged  usd_type  \n",
       "0  {\"web\":{\"project\":\"https://www.kickstarter.com...   379.014248       NaN  \n",
       "1  {\"web\":{\"project\":\"https://www.kickstarter.com...  3530.000000       NaN  \n",
       "2  {\"web\":{\"project\":\"https://www.kickstarter.com...  5053.127524       NaN  \n",
       "3  {\"web\":{\"project\":\"https://www.kickstarter.com...  7357.690612       NaN  \n",
       "4  {\"web\":{\"project\":\"https://www.kickstarter.com...  5012.810505       NaN  \n",
       "\n",
       "[5 rows x 36 columns]"
      ]
     },
     "execution_count": 5,
     "metadata": {},
     "output_type": "execute_result"
    }
   ],
   "source": [
    "len(concatenated_df)\n",
    "concatenated_df.head()"
   ]
  },
  {
   "cell_type": "code",
   "execution_count": 6,
   "metadata": {
    "collapsed": true
   },
   "outputs": [],
   "source": [
    "ks=concatenated_df.copy(True)"
   ]
  },
  {
   "cell_type": "code",
   "execution_count": 7,
   "metadata": {},
   "outputs": [
    {
     "data": {
      "text/plain": [
       "US    174795\n",
       "GB     20845\n",
       "CA      9278\n",
       "AU      5040\n",
       "DE      2606\n",
       "FR      1938\n",
       "IT      1839\n",
       "NL      1833\n",
       "ES      1493\n",
       "SE      1141\n",
       "MX      1125\n",
       "NZ       920\n",
       "DK       754\n",
       "IE       519\n",
       "CH       493\n",
       "NO       477\n",
       "BE       414\n",
       "HK       408\n",
       "AT       353\n",
       "SG       318\n",
       "LU        34\n",
       "JP        21\n",
       "Name: country, dtype: int64"
      ]
     },
     "execution_count": 7,
     "metadata": {},
     "output_type": "execute_result"
    }
   ],
   "source": [
    "ks.country.value_counts()"
   ]
  },
  {
   "cell_type": "code",
   "execution_count": 8,
   "metadata": {
    "collapsed": true
   },
   "outputs": [],
   "source": [
    "# I select only projects originating in the US\n",
    "ks_us=ks[ks.country=='US']"
   ]
  },
  {
   "cell_type": "code",
   "execution_count": 10,
   "metadata": {},
   "outputs": [
    {
     "data": {
      "text/html": [
       "<div>\n",
       "<style>\n",
       "    .dataframe thead tr:only-child th {\n",
       "        text-align: right;\n",
       "    }\n",
       "\n",
       "    .dataframe thead th {\n",
       "        text-align: left;\n",
       "    }\n",
       "\n",
       "    .dataframe tbody tr th {\n",
       "        vertical-align: top;\n",
       "    }\n",
       "</style>\n",
       "<table border=\"1\" class=\"dataframe\">\n",
       "  <thead>\n",
       "    <tr style=\"text-align: right;\">\n",
       "      <th></th>\n",
       "      <th>backers_count</th>\n",
       "      <th>blurb</th>\n",
       "      <th>category</th>\n",
       "      <th>converted_pledged_amount</th>\n",
       "      <th>country</th>\n",
       "      <th>created_at</th>\n",
       "      <th>creator</th>\n",
       "      <th>currency</th>\n",
       "      <th>currency_symbol</th>\n",
       "      <th>currency_trailing_code</th>\n",
       "      <th>...</th>\n",
       "      <th>slug</th>\n",
       "      <th>source_url</th>\n",
       "      <th>spotlight</th>\n",
       "      <th>staff_pick</th>\n",
       "      <th>state</th>\n",
       "      <th>state_changed_at</th>\n",
       "      <th>static_usd_rate</th>\n",
       "      <th>urls</th>\n",
       "      <th>usd_pledged</th>\n",
       "      <th>usd_type</th>\n",
       "    </tr>\n",
       "  </thead>\n",
       "  <tbody>\n",
       "    <tr>\n",
       "      <th>1</th>\n",
       "      <td>40</td>\n",
       "      <td>Bring a touring character education play about...</td>\n",
       "      <td>{\"urls\":{\"web\":{\"discover\":\"http://www.kicksta...</td>\n",
       "      <td>NaN</td>\n",
       "      <td>US</td>\n",
       "      <td>1402512498</td>\n",
       "      <td>{\"urls\":{\"web\":{\"user\":\"https://www.kickstarte...</td>\n",
       "      <td>USD</td>\n",
       "      <td>$</td>\n",
       "      <td>True</td>\n",
       "      <td>...</td>\n",
       "      <td>kylie-for-president</td>\n",
       "      <td>https://www.kickstarter.com/discover/categorie...</td>\n",
       "      <td>True</td>\n",
       "      <td>False</td>\n",
       "      <td>successful</td>\n",
       "      <td>1405915140</td>\n",
       "      <td>1.0</td>\n",
       "      <td>{\"web\":{\"project\":\"https://www.kickstarter.com...</td>\n",
       "      <td>3530.0</td>\n",
       "      <td>NaN</td>\n",
       "    </tr>\n",
       "    <tr>\n",
       "      <th>6</th>\n",
       "      <td>16</td>\n",
       "      <td>The Black and White Theatre Company Inc. is a ...</td>\n",
       "      <td>{\"urls\":{\"web\":{\"discover\":\"http://www.kicksta...</td>\n",
       "      <td>NaN</td>\n",
       "      <td>US</td>\n",
       "      <td>1408428655</td>\n",
       "      <td>{\"urls\":{\"web\":{\"user\":\"https://www.kickstarte...</td>\n",
       "      <td>USD</td>\n",
       "      <td>$</td>\n",
       "      <td>True</td>\n",
       "      <td>...</td>\n",
       "      <td>the-black-and-white-theatre-company-inc</td>\n",
       "      <td>https://www.kickstarter.com/discover/categorie...</td>\n",
       "      <td>True</td>\n",
       "      <td>False</td>\n",
       "      <td>successful</td>\n",
       "      <td>1410550485</td>\n",
       "      <td>1.0</td>\n",
       "      <td>{\"web\":{\"project\":\"https://www.kickstarter.com...</td>\n",
       "      <td>1030.0</td>\n",
       "      <td>NaN</td>\n",
       "    </tr>\n",
       "    <tr>\n",
       "      <th>7</th>\n",
       "      <td>199</td>\n",
       "      <td>Goldfish Memory Productions seeks at least $12...</td>\n",
       "      <td>{\"urls\":{\"web\":{\"discover\":\"http://www.kicksta...</td>\n",
       "      <td>NaN</td>\n",
       "      <td>US</td>\n",
       "      <td>1402111987</td>\n",
       "      <td>{\"urls\":{\"web\":{\"user\":\"https://www.kickstarte...</td>\n",
       "      <td>USD</td>\n",
       "      <td>$</td>\n",
       "      <td>True</td>\n",
       "      <td>...</td>\n",
       "      <td>goldfish-memory-productions</td>\n",
       "      <td>https://www.kickstarter.com/discover/categorie...</td>\n",
       "      <td>True</td>\n",
       "      <td>False</td>\n",
       "      <td>successful</td>\n",
       "      <td>1404359941</td>\n",
       "      <td>1.0</td>\n",
       "      <td>{\"web\":{\"project\":\"https://www.kickstarter.com...</td>\n",
       "      <td>12348.5</td>\n",
       "      <td>NaN</td>\n",
       "    </tr>\n",
       "    <tr>\n",
       "      <th>9</th>\n",
       "      <td>30</td>\n",
       "      <td>Bert V. Royal makes a strong statement about d...</td>\n",
       "      <td>{\"urls\":{\"web\":{\"discover\":\"http://www.kicksta...</td>\n",
       "      <td>NaN</td>\n",
       "      <td>US</td>\n",
       "      <td>1396409030</td>\n",
       "      <td>{\"urls\":{\"web\":{\"user\":\"https://www.kickstarte...</td>\n",
       "      <td>USD</td>\n",
       "      <td>$</td>\n",
       "      <td>True</td>\n",
       "      <td>...</td>\n",
       "      <td>dog-sees-god-confessions-of-a-teenage-blockhead-0</td>\n",
       "      <td>https://www.kickstarter.com/discover/categorie...</td>\n",
       "      <td>True</td>\n",
       "      <td>False</td>\n",
       "      <td>successful</td>\n",
       "      <td>1404190740</td>\n",
       "      <td>1.0</td>\n",
       "      <td>{\"web\":{\"project\":\"https://www.kickstarter.com...</td>\n",
       "      <td>2202.0</td>\n",
       "      <td>NaN</td>\n",
       "    </tr>\n",
       "    <tr>\n",
       "      <th>10</th>\n",
       "      <td>34</td>\n",
       "      <td>In The Dudleys! family memories are brought to...</td>\n",
       "      <td>{\"urls\":{\"web\":{\"discover\":\"http://www.kicksta...</td>\n",
       "      <td>NaN</td>\n",
       "      <td>US</td>\n",
       "      <td>1469362954</td>\n",
       "      <td>{\"urls\":{\"web\":{\"user\":\"https://www.kickstarte...</td>\n",
       "      <td>USD</td>\n",
       "      <td>$</td>\n",
       "      <td>True</td>\n",
       "      <td>...</td>\n",
       "      <td>loading-dock-theatre-presents-the-dudleys-a-fa...</td>\n",
       "      <td>https://www.kickstarter.com/discover/categorie...</td>\n",
       "      <td>True</td>\n",
       "      <td>False</td>\n",
       "      <td>successful</td>\n",
       "      <td>1475664834</td>\n",
       "      <td>1.0</td>\n",
       "      <td>{\"web\":{\"project\":\"https://www.kickstarter.com...</td>\n",
       "      <td>3383.0</td>\n",
       "      <td>NaN</td>\n",
       "    </tr>\n",
       "  </tbody>\n",
       "</table>\n",
       "<p>5 rows × 36 columns</p>\n",
       "</div>"
      ],
      "text/plain": [
       "    backers_count                                              blurb  \\\n",
       "1              40  Bring a touring character education play about...   \n",
       "6              16  The Black and White Theatre Company Inc. is a ...   \n",
       "7             199  Goldfish Memory Productions seeks at least $12...   \n",
       "9              30  Bert V. Royal makes a strong statement about d...   \n",
       "10             34  In The Dudleys! family memories are brought to...   \n",
       "\n",
       "                                             category  \\\n",
       "1   {\"urls\":{\"web\":{\"discover\":\"http://www.kicksta...   \n",
       "6   {\"urls\":{\"web\":{\"discover\":\"http://www.kicksta...   \n",
       "7   {\"urls\":{\"web\":{\"discover\":\"http://www.kicksta...   \n",
       "9   {\"urls\":{\"web\":{\"discover\":\"http://www.kicksta...   \n",
       "10  {\"urls\":{\"web\":{\"discover\":\"http://www.kicksta...   \n",
       "\n",
       "    converted_pledged_amount country  created_at  \\\n",
       "1                        NaN      US  1402512498   \n",
       "6                        NaN      US  1408428655   \n",
       "7                        NaN      US  1402111987   \n",
       "9                        NaN      US  1396409030   \n",
       "10                       NaN      US  1469362954   \n",
       "\n",
       "                                              creator currency  \\\n",
       "1   {\"urls\":{\"web\":{\"user\":\"https://www.kickstarte...      USD   \n",
       "6   {\"urls\":{\"web\":{\"user\":\"https://www.kickstarte...      USD   \n",
       "7   {\"urls\":{\"web\":{\"user\":\"https://www.kickstarte...      USD   \n",
       "9   {\"urls\":{\"web\":{\"user\":\"https://www.kickstarte...      USD   \n",
       "10  {\"urls\":{\"web\":{\"user\":\"https://www.kickstarte...      USD   \n",
       "\n",
       "   currency_symbol  currency_trailing_code    ...     \\\n",
       "1                $                    True    ...      \n",
       "6                $                    True    ...      \n",
       "7                $                    True    ...      \n",
       "9                $                    True    ...      \n",
       "10               $                    True    ...      \n",
       "\n",
       "                                                 slug  \\\n",
       "1                                 kylie-for-president   \n",
       "6             the-black-and-white-theatre-company-inc   \n",
       "7                         goldfish-memory-productions   \n",
       "9   dog-sees-god-confessions-of-a-teenage-blockhead-0   \n",
       "10  loading-dock-theatre-presents-the-dudleys-a-fa...   \n",
       "\n",
       "                                           source_url  spotlight staff_pick  \\\n",
       "1   https://www.kickstarter.com/discover/categorie...       True      False   \n",
       "6   https://www.kickstarter.com/discover/categorie...       True      False   \n",
       "7   https://www.kickstarter.com/discover/categorie...       True      False   \n",
       "9   https://www.kickstarter.com/discover/categorie...       True      False   \n",
       "10  https://www.kickstarter.com/discover/categorie...       True      False   \n",
       "\n",
       "         state  state_changed_at static_usd_rate  \\\n",
       "1   successful        1405915140             1.0   \n",
       "6   successful        1410550485             1.0   \n",
       "7   successful        1404359941             1.0   \n",
       "9   successful        1404190740             1.0   \n",
       "10  successful        1475664834             1.0   \n",
       "\n",
       "                                                 urls usd_pledged  usd_type  \n",
       "1   {\"web\":{\"project\":\"https://www.kickstarter.com...      3530.0       NaN  \n",
       "6   {\"web\":{\"project\":\"https://www.kickstarter.com...      1030.0       NaN  \n",
       "7   {\"web\":{\"project\":\"https://www.kickstarter.com...     12348.5       NaN  \n",
       "9   {\"web\":{\"project\":\"https://www.kickstarter.com...      2202.0       NaN  \n",
       "10  {\"web\":{\"project\":\"https://www.kickstarter.com...      3383.0       NaN  \n",
       "\n",
       "[5 rows x 36 columns]"
      ]
     },
     "execution_count": 10,
     "metadata": {},
     "output_type": "execute_result"
    }
   ],
   "source": [
    "ks_us.head()"
   ]
  },
  {
   "cell_type": "code",
   "execution_count": 11,
   "metadata": {},
   "outputs": [
    {
     "data": {
      "text/plain": [
       "failed        75908\n",
       "successful    69307\n",
       "live          19714\n",
       "canceled       9294\n",
       "suspended       572\n",
       "Name: state, dtype: int64"
      ]
     },
     "execution_count": 11,
     "metadata": {},
     "output_type": "execute_result"
    }
   ],
   "source": [
    "ks_us.state.value_counts()"
   ]
  },
  {
   "cell_type": "code",
   "execution_count": 12,
   "metadata": {
    "collapsed": true
   },
   "outputs": [],
   "source": [
    "# I select only projects that are successful or have failed to convert the question to a binary problem\n",
    "ks_us=ks_us[(ks_us.state=='successful')|(ks_us.state=='failed')]"
   ]
  },
  {
   "cell_type": "code",
   "execution_count": 13,
   "metadata": {},
   "outputs": [
    {
     "data": {
      "text/html": [
       "<div>\n",
       "<style>\n",
       "    .dataframe thead tr:only-child th {\n",
       "        text-align: right;\n",
       "    }\n",
       "\n",
       "    .dataframe thead th {\n",
       "        text-align: left;\n",
       "    }\n",
       "\n",
       "    .dataframe tbody tr th {\n",
       "        vertical-align: top;\n",
       "    }\n",
       "</style>\n",
       "<table border=\"1\" class=\"dataframe\">\n",
       "  <thead>\n",
       "    <tr style=\"text-align: right;\">\n",
       "      <th></th>\n",
       "      <th>backers_count</th>\n",
       "      <th>blurb</th>\n",
       "      <th>category</th>\n",
       "      <th>converted_pledged_amount</th>\n",
       "      <th>country</th>\n",
       "      <th>created_at</th>\n",
       "      <th>creator</th>\n",
       "      <th>currency</th>\n",
       "      <th>currency_symbol</th>\n",
       "      <th>currency_trailing_code</th>\n",
       "      <th>...</th>\n",
       "      <th>slug</th>\n",
       "      <th>source_url</th>\n",
       "      <th>spotlight</th>\n",
       "      <th>staff_pick</th>\n",
       "      <th>state</th>\n",
       "      <th>state_changed_at</th>\n",
       "      <th>static_usd_rate</th>\n",
       "      <th>urls</th>\n",
       "      <th>usd_pledged</th>\n",
       "      <th>usd_type</th>\n",
       "    </tr>\n",
       "  </thead>\n",
       "  <tbody>\n",
       "    <tr>\n",
       "      <th>1</th>\n",
       "      <td>40</td>\n",
       "      <td>Bring a touring character education play about...</td>\n",
       "      <td>{\"urls\":{\"web\":{\"discover\":\"http://www.kicksta...</td>\n",
       "      <td>NaN</td>\n",
       "      <td>US</td>\n",
       "      <td>1402512498</td>\n",
       "      <td>{\"urls\":{\"web\":{\"user\":\"https://www.kickstarte...</td>\n",
       "      <td>USD</td>\n",
       "      <td>$</td>\n",
       "      <td>True</td>\n",
       "      <td>...</td>\n",
       "      <td>kylie-for-president</td>\n",
       "      <td>https://www.kickstarter.com/discover/categorie...</td>\n",
       "      <td>True</td>\n",
       "      <td>False</td>\n",
       "      <td>successful</td>\n",
       "      <td>1405915140</td>\n",
       "      <td>1.0</td>\n",
       "      <td>{\"web\":{\"project\":\"https://www.kickstarter.com...</td>\n",
       "      <td>3530.0</td>\n",
       "      <td>NaN</td>\n",
       "    </tr>\n",
       "    <tr>\n",
       "      <th>6</th>\n",
       "      <td>16</td>\n",
       "      <td>The Black and White Theatre Company Inc. is a ...</td>\n",
       "      <td>{\"urls\":{\"web\":{\"discover\":\"http://www.kicksta...</td>\n",
       "      <td>NaN</td>\n",
       "      <td>US</td>\n",
       "      <td>1408428655</td>\n",
       "      <td>{\"urls\":{\"web\":{\"user\":\"https://www.kickstarte...</td>\n",
       "      <td>USD</td>\n",
       "      <td>$</td>\n",
       "      <td>True</td>\n",
       "      <td>...</td>\n",
       "      <td>the-black-and-white-theatre-company-inc</td>\n",
       "      <td>https://www.kickstarter.com/discover/categorie...</td>\n",
       "      <td>True</td>\n",
       "      <td>False</td>\n",
       "      <td>successful</td>\n",
       "      <td>1410550485</td>\n",
       "      <td>1.0</td>\n",
       "      <td>{\"web\":{\"project\":\"https://www.kickstarter.com...</td>\n",
       "      <td>1030.0</td>\n",
       "      <td>NaN</td>\n",
       "    </tr>\n",
       "    <tr>\n",
       "      <th>7</th>\n",
       "      <td>199</td>\n",
       "      <td>Goldfish Memory Productions seeks at least $12...</td>\n",
       "      <td>{\"urls\":{\"web\":{\"discover\":\"http://www.kicksta...</td>\n",
       "      <td>NaN</td>\n",
       "      <td>US</td>\n",
       "      <td>1402111987</td>\n",
       "      <td>{\"urls\":{\"web\":{\"user\":\"https://www.kickstarte...</td>\n",
       "      <td>USD</td>\n",
       "      <td>$</td>\n",
       "      <td>True</td>\n",
       "      <td>...</td>\n",
       "      <td>goldfish-memory-productions</td>\n",
       "      <td>https://www.kickstarter.com/discover/categorie...</td>\n",
       "      <td>True</td>\n",
       "      <td>False</td>\n",
       "      <td>successful</td>\n",
       "      <td>1404359941</td>\n",
       "      <td>1.0</td>\n",
       "      <td>{\"web\":{\"project\":\"https://www.kickstarter.com...</td>\n",
       "      <td>12348.5</td>\n",
       "      <td>NaN</td>\n",
       "    </tr>\n",
       "    <tr>\n",
       "      <th>9</th>\n",
       "      <td>30</td>\n",
       "      <td>Bert V. Royal makes a strong statement about d...</td>\n",
       "      <td>{\"urls\":{\"web\":{\"discover\":\"http://www.kicksta...</td>\n",
       "      <td>NaN</td>\n",
       "      <td>US</td>\n",
       "      <td>1396409030</td>\n",
       "      <td>{\"urls\":{\"web\":{\"user\":\"https://www.kickstarte...</td>\n",
       "      <td>USD</td>\n",
       "      <td>$</td>\n",
       "      <td>True</td>\n",
       "      <td>...</td>\n",
       "      <td>dog-sees-god-confessions-of-a-teenage-blockhead-0</td>\n",
       "      <td>https://www.kickstarter.com/discover/categorie...</td>\n",
       "      <td>True</td>\n",
       "      <td>False</td>\n",
       "      <td>successful</td>\n",
       "      <td>1404190740</td>\n",
       "      <td>1.0</td>\n",
       "      <td>{\"web\":{\"project\":\"https://www.kickstarter.com...</td>\n",
       "      <td>2202.0</td>\n",
       "      <td>NaN</td>\n",
       "    </tr>\n",
       "    <tr>\n",
       "      <th>10</th>\n",
       "      <td>34</td>\n",
       "      <td>In The Dudleys! family memories are brought to...</td>\n",
       "      <td>{\"urls\":{\"web\":{\"discover\":\"http://www.kicksta...</td>\n",
       "      <td>NaN</td>\n",
       "      <td>US</td>\n",
       "      <td>1469362954</td>\n",
       "      <td>{\"urls\":{\"web\":{\"user\":\"https://www.kickstarte...</td>\n",
       "      <td>USD</td>\n",
       "      <td>$</td>\n",
       "      <td>True</td>\n",
       "      <td>...</td>\n",
       "      <td>loading-dock-theatre-presents-the-dudleys-a-fa...</td>\n",
       "      <td>https://www.kickstarter.com/discover/categorie...</td>\n",
       "      <td>True</td>\n",
       "      <td>False</td>\n",
       "      <td>successful</td>\n",
       "      <td>1475664834</td>\n",
       "      <td>1.0</td>\n",
       "      <td>{\"web\":{\"project\":\"https://www.kickstarter.com...</td>\n",
       "      <td>3383.0</td>\n",
       "      <td>NaN</td>\n",
       "    </tr>\n",
       "  </tbody>\n",
       "</table>\n",
       "<p>5 rows × 36 columns</p>\n",
       "</div>"
      ],
      "text/plain": [
       "    backers_count                                              blurb  \\\n",
       "1              40  Bring a touring character education play about...   \n",
       "6              16  The Black and White Theatre Company Inc. is a ...   \n",
       "7             199  Goldfish Memory Productions seeks at least $12...   \n",
       "9              30  Bert V. Royal makes a strong statement about d...   \n",
       "10             34  In The Dudleys! family memories are brought to...   \n",
       "\n",
       "                                             category  \\\n",
       "1   {\"urls\":{\"web\":{\"discover\":\"http://www.kicksta...   \n",
       "6   {\"urls\":{\"web\":{\"discover\":\"http://www.kicksta...   \n",
       "7   {\"urls\":{\"web\":{\"discover\":\"http://www.kicksta...   \n",
       "9   {\"urls\":{\"web\":{\"discover\":\"http://www.kicksta...   \n",
       "10  {\"urls\":{\"web\":{\"discover\":\"http://www.kicksta...   \n",
       "\n",
       "    converted_pledged_amount country  created_at  \\\n",
       "1                        NaN      US  1402512498   \n",
       "6                        NaN      US  1408428655   \n",
       "7                        NaN      US  1402111987   \n",
       "9                        NaN      US  1396409030   \n",
       "10                       NaN      US  1469362954   \n",
       "\n",
       "                                              creator currency  \\\n",
       "1   {\"urls\":{\"web\":{\"user\":\"https://www.kickstarte...      USD   \n",
       "6   {\"urls\":{\"web\":{\"user\":\"https://www.kickstarte...      USD   \n",
       "7   {\"urls\":{\"web\":{\"user\":\"https://www.kickstarte...      USD   \n",
       "9   {\"urls\":{\"web\":{\"user\":\"https://www.kickstarte...      USD   \n",
       "10  {\"urls\":{\"web\":{\"user\":\"https://www.kickstarte...      USD   \n",
       "\n",
       "   currency_symbol  currency_trailing_code    ...     \\\n",
       "1                $                    True    ...      \n",
       "6                $                    True    ...      \n",
       "7                $                    True    ...      \n",
       "9                $                    True    ...      \n",
       "10               $                    True    ...      \n",
       "\n",
       "                                                 slug  \\\n",
       "1                                 kylie-for-president   \n",
       "6             the-black-and-white-theatre-company-inc   \n",
       "7                         goldfish-memory-productions   \n",
       "9   dog-sees-god-confessions-of-a-teenage-blockhead-0   \n",
       "10  loading-dock-theatre-presents-the-dudleys-a-fa...   \n",
       "\n",
       "                                           source_url  spotlight staff_pick  \\\n",
       "1   https://www.kickstarter.com/discover/categorie...       True      False   \n",
       "6   https://www.kickstarter.com/discover/categorie...       True      False   \n",
       "7   https://www.kickstarter.com/discover/categorie...       True      False   \n",
       "9   https://www.kickstarter.com/discover/categorie...       True      False   \n",
       "10  https://www.kickstarter.com/discover/categorie...       True      False   \n",
       "\n",
       "         state  state_changed_at static_usd_rate  \\\n",
       "1   successful        1405915140             1.0   \n",
       "6   successful        1410550485             1.0   \n",
       "7   successful        1404359941             1.0   \n",
       "9   successful        1404190740             1.0   \n",
       "10  successful        1475664834             1.0   \n",
       "\n",
       "                                                 urls usd_pledged  usd_type  \n",
       "1   {\"web\":{\"project\":\"https://www.kickstarter.com...      3530.0       NaN  \n",
       "6   {\"web\":{\"project\":\"https://www.kickstarter.com...      1030.0       NaN  \n",
       "7   {\"web\":{\"project\":\"https://www.kickstarter.com...     12348.5       NaN  \n",
       "9   {\"web\":{\"project\":\"https://www.kickstarter.com...      2202.0       NaN  \n",
       "10  {\"web\":{\"project\":\"https://www.kickstarter.com...      3383.0       NaN  \n",
       "\n",
       "[5 rows x 36 columns]"
      ]
     },
     "execution_count": 13,
     "metadata": {},
     "output_type": "execute_result"
    }
   ],
   "source": [
    "ks_us.head()"
   ]
  },
  {
   "cell_type": "code",
   "execution_count": 14,
   "metadata": {},
   "outputs": [
    {
     "data": {
      "text/plain": [
       "145215"
      ]
     },
     "execution_count": 14,
     "metadata": {},
     "output_type": "execute_result"
    },
    {
     "data": {
      "text/plain": [
       "backers_count                    0\n",
       "blurb                            1\n",
       "category                         0\n",
       "converted_pledged_amount    145148\n",
       "country                          0\n",
       "created_at                       0\n",
       "creator                          0\n",
       "currency                         0\n",
       "currency_symbol                  0\n",
       "currency_trailing_code           0\n",
       "current_currency            145148\n",
       "deadline                         0\n",
       "disable_communication            0\n",
       "friends                     145215\n",
       "goal                             0\n",
       "id                               0\n",
       "is_backing                  145215\n",
       "is_starrable                144906\n",
       "is_starred                  145215\n",
       "launched_at                      0\n",
       "location                       757\n",
       "name                             1\n",
       "permissions                 145215\n",
       "photo                            0\n",
       "pledged                          0\n",
       "profile                          0\n",
       "slug                             0\n",
       "source_url                       0\n",
       "spotlight                        0\n",
       "staff_pick                       0\n",
       "state                            0\n",
       "state_changed_at                 0\n",
       "static_usd_rate                  0\n",
       "urls                             0\n",
       "usd_pledged                      0\n",
       "usd_type                    145148\n",
       "dtype: int64"
      ]
     },
     "execution_count": 14,
     "metadata": {},
     "output_type": "execute_result"
    }
   ],
   "source": [
    "len(ks_us)\n",
    "ks_us.isnull().sum()"
   ]
  },
  {
   "cell_type": "code",
   "execution_count": 15,
   "metadata": {
    "collapsed": true
   },
   "outputs": [],
   "source": [
    "#Dropping columns with multiple nans and columns that are not helpful in prediction\n",
    "ks_us.drop(labels=['creator','photo', 'profile','source_url','urls','id','converted_pledged_amount','country', 'currency','currency_symbol','currency_trailing_code', 'current_currency', 'friends','is_backing','is_starrable', 'is_starred', 'permissions' , 'usd_type', 'static_usd_rate'], axis=1  , inplace=True  )\n",
    "ks_us.dropna(axis=0, inplace=True)"
   ]
  },
  {
   "cell_type": "code",
   "execution_count": 16,
   "metadata": {},
   "outputs": [
    {
     "data": {
      "text/plain": [
       "144457"
      ]
     },
     "execution_count": 16,
     "metadata": {},
     "output_type": "execute_result"
    },
    {
     "data": {
      "text/plain": [
       "backers_count            0\n",
       "blurb                    0\n",
       "category                 0\n",
       "created_at               0\n",
       "deadline                 0\n",
       "disable_communication    0\n",
       "goal                     0\n",
       "launched_at              0\n",
       "location                 0\n",
       "name                     0\n",
       "pledged                  0\n",
       "slug                     0\n",
       "spotlight                0\n",
       "staff_pick               0\n",
       "state                    0\n",
       "state_changed_at         0\n",
       "usd_pledged              0\n",
       "dtype: int64"
      ]
     },
     "execution_count": 16,
     "metadata": {},
     "output_type": "execute_result"
    }
   ],
   "source": [
    "#No more nans\n",
    "len(ks_us)\n",
    "ks_us.isnull().sum()"
   ]
  },
  {
   "cell_type": "code",
   "execution_count": 17,
   "metadata": {
    "collapsed": true
   },
   "outputs": [],
   "source": [
    "# New features: time in days from (i) launch to deadline and (ii) from create to launch\n",
    "# Difference of unix timestamps gives seconds, I convert to days\n",
    "ks_us['launch_to_deadline']=(ks_us.deadline-ks_us.launched_at)/3600/24 \n",
    "ks_us['create_to_launch']=(ks_us.launched_at-ks_us.created_at)/3600/24\n",
    "ks_us.drop(labels=['launched_at', 'created_at', 'deadline','state_changed_at'], axis=1  , inplace=True  )\n"
   ]
  },
  {
   "cell_type": "code",
   "execution_count": 20,
   "metadata": {},
   "outputs": [
    {
     "data": {
      "text/plain": [
       "backers_count                                                           16\n",
       "blurb                    The Black and White Theatre Company Inc. is a ...\n",
       "category                 {\"urls\":{\"web\":{\"discover\":\"http://www.kicksta...\n",
       "disable_communication                                                False\n",
       "goal                                                                   800\n",
       "location                 {\"country\":\"US\",\"urls\":{\"web\":{\"discover\":\"htt...\n",
       "name                              The Black and White Theatre Company Inc.\n",
       "pledged                                                               1030\n",
       "slug                               the-black-and-white-theatre-company-inc\n",
       "spotlight                                                             True\n",
       "staff_pick                                                           False\n",
       "state                                                           successful\n",
       "usd_pledged                                                           1030\n",
       "launch_to_deadline                                                      18\n",
       "create_to_launch                                                   6.55821\n",
       "Name: 6, dtype: object"
      ]
     },
     "execution_count": 20,
     "metadata": {},
     "output_type": "execute_result"
    }
   ],
   "source": [
    "#category and location within are in json format\n",
    "ks_us.iloc[1]"
   ]
  },
  {
   "cell_type": "code",
   "execution_count": 21,
   "metadata": {},
   "outputs": [
    {
     "data": {
      "text/html": [
       "<div>\n",
       "<style>\n",
       "    .dataframe thead tr:only-child th {\n",
       "        text-align: right;\n",
       "    }\n",
       "\n",
       "    .dataframe thead th {\n",
       "        text-align: left;\n",
       "    }\n",
       "\n",
       "    .dataframe tbody tr th {\n",
       "        vertical-align: top;\n",
       "    }\n",
       "</style>\n",
       "<table border=\"1\" class=\"dataframe\">\n",
       "  <thead>\n",
       "    <tr style=\"text-align: right;\">\n",
       "      <th></th>\n",
       "      <th>color</th>\n",
       "      <th>id</th>\n",
       "      <th>name</th>\n",
       "      <th>parent_id</th>\n",
       "      <th>position</th>\n",
       "      <th>slug</th>\n",
       "      <th>urls</th>\n",
       "    </tr>\n",
       "  </thead>\n",
       "  <tbody>\n",
       "    <tr>\n",
       "      <th>0</th>\n",
       "      <td>16743775</td>\n",
       "      <td>285</td>\n",
       "      <td>Plays</td>\n",
       "      <td>17</td>\n",
       "      <td>6</td>\n",
       "      <td>theater/plays</td>\n",
       "      <td>{'web': {'discover': 'http://www.kickstarter.c...</td>\n",
       "    </tr>\n",
       "    <tr>\n",
       "      <th>1</th>\n",
       "      <td>16743775</td>\n",
       "      <td>285</td>\n",
       "      <td>Plays</td>\n",
       "      <td>17</td>\n",
       "      <td>6</td>\n",
       "      <td>theater/plays</td>\n",
       "      <td>{'web': {'discover': 'http://www.kickstarter.c...</td>\n",
       "    </tr>\n",
       "    <tr>\n",
       "      <th>2</th>\n",
       "      <td>16743775</td>\n",
       "      <td>285</td>\n",
       "      <td>Plays</td>\n",
       "      <td>17</td>\n",
       "      <td>6</td>\n",
       "      <td>theater/plays</td>\n",
       "      <td>{'web': {'discover': 'http://www.kickstarter.c...</td>\n",
       "    </tr>\n",
       "    <tr>\n",
       "      <th>3</th>\n",
       "      <td>16743775</td>\n",
       "      <td>285</td>\n",
       "      <td>Plays</td>\n",
       "      <td>17</td>\n",
       "      <td>6</td>\n",
       "      <td>theater/plays</td>\n",
       "      <td>{'web': {'discover': 'http://www.kickstarter.c...</td>\n",
       "    </tr>\n",
       "    <tr>\n",
       "      <th>4</th>\n",
       "      <td>16743775</td>\n",
       "      <td>285</td>\n",
       "      <td>Plays</td>\n",
       "      <td>17</td>\n",
       "      <td>6</td>\n",
       "      <td>theater/plays</td>\n",
       "      <td>{'web': {'discover': 'http://www.kickstarter.c...</td>\n",
       "    </tr>\n",
       "  </tbody>\n",
       "</table>\n",
       "</div>"
      ],
      "text/plain": [
       "      color   id   name  parent_id  position           slug  \\\n",
       "0  16743775  285  Plays         17         6  theater/plays   \n",
       "1  16743775  285  Plays         17         6  theater/plays   \n",
       "2  16743775  285  Plays         17         6  theater/plays   \n",
       "3  16743775  285  Plays         17         6  theater/plays   \n",
       "4  16743775  285  Plays         17         6  theater/plays   \n",
       "\n",
       "                                                urls  \n",
       "0  {'web': {'discover': 'http://www.kickstarter.c...  \n",
       "1  {'web': {'discover': 'http://www.kickstarter.c...  \n",
       "2  {'web': {'discover': 'http://www.kickstarter.c...  \n",
       "3  {'web': {'discover': 'http://www.kickstarter.c...  \n",
       "4  {'web': {'discover': 'http://www.kickstarter.c...  "
      ]
     },
     "execution_count": 21,
     "metadata": {},
     "output_type": "execute_result"
    }
   ],
   "source": [
    "#extracting category from json and replacing column\n",
    "cat = ks_us['category'].apply(json.loads)\n",
    "cat2=pd.DataFrame(cat.tolist())\n",
    "cat2.head()"
   ]
  },
  {
   "cell_type": "code",
   "execution_count": 22,
   "metadata": {
    "collapsed": true
   },
   "outputs": [],
   "source": [
    "# extracting category from json and replacing column\n",
    "cat2_list=cat2.name.values.tolist()"
   ]
  },
  {
   "cell_type": "code",
   "execution_count": 24,
   "metadata": {
    "collapsed": true
   },
   "outputs": [],
   "source": [
    "# extracting category from json and replacing column\n",
    "ks_us.drop(labels=['category'], axis=1  , inplace=True  )\n",
    "ks_us['category']=cat2_list"
   ]
  },
  {
   "cell_type": "code",
   "execution_count": 26,
   "metadata": {},
   "outputs": [
    {
     "data": {
      "text/html": [
       "<div>\n",
       "<style>\n",
       "    .dataframe thead tr:only-child th {\n",
       "        text-align: right;\n",
       "    }\n",
       "\n",
       "    .dataframe thead th {\n",
       "        text-align: left;\n",
       "    }\n",
       "\n",
       "    .dataframe tbody tr th {\n",
       "        vertical-align: top;\n",
       "    }\n",
       "</style>\n",
       "<table border=\"1\" class=\"dataframe\">\n",
       "  <thead>\n",
       "    <tr style=\"text-align: right;\">\n",
       "      <th></th>\n",
       "      <th>country</th>\n",
       "      <th>displayable_name</th>\n",
       "      <th>id</th>\n",
       "      <th>is_root</th>\n",
       "      <th>localized_name</th>\n",
       "      <th>name</th>\n",
       "      <th>short_name</th>\n",
       "      <th>slug</th>\n",
       "      <th>state</th>\n",
       "      <th>type</th>\n",
       "      <th>urls</th>\n",
       "    </tr>\n",
       "  </thead>\n",
       "  <tbody>\n",
       "    <tr>\n",
       "      <th>0</th>\n",
       "      <td>US</td>\n",
       "      <td>Louisville, KY</td>\n",
       "      <td>2442327</td>\n",
       "      <td>False</td>\n",
       "      <td>NaN</td>\n",
       "      <td>Louisville</td>\n",
       "      <td>Louisville, KY</td>\n",
       "      <td>louisville-ky</td>\n",
       "      <td>KY</td>\n",
       "      <td>Town</td>\n",
       "      <td>{'web': {'discover': 'https://www.kickstarter....</td>\n",
       "    </tr>\n",
       "    <tr>\n",
       "      <th>1</th>\n",
       "      <td>US</td>\n",
       "      <td>Mint Hill, NC</td>\n",
       "      <td>2452209</td>\n",
       "      <td>False</td>\n",
       "      <td>NaN</td>\n",
       "      <td>Mint Hill</td>\n",
       "      <td>Mint Hill, NC</td>\n",
       "      <td>mint-hill-nc</td>\n",
       "      <td>NC</td>\n",
       "      <td>Town</td>\n",
       "      <td>{'web': {'discover': 'https://www.kickstarter....</td>\n",
       "    </tr>\n",
       "    <tr>\n",
       "      <th>2</th>\n",
       "      <td>US</td>\n",
       "      <td>New York, NY</td>\n",
       "      <td>2459115</td>\n",
       "      <td>False</td>\n",
       "      <td>NaN</td>\n",
       "      <td>New York</td>\n",
       "      <td>New York, NY</td>\n",
       "      <td>new-york-ny</td>\n",
       "      <td>NY</td>\n",
       "      <td>Town</td>\n",
       "      <td>{'web': {'discover': 'https://www.kickstarter....</td>\n",
       "    </tr>\n",
       "    <tr>\n",
       "      <th>3</th>\n",
       "      <td>US</td>\n",
       "      <td>Waukesha, WI</td>\n",
       "      <td>2515439</td>\n",
       "      <td>False</td>\n",
       "      <td>NaN</td>\n",
       "      <td>Waukesha</td>\n",
       "      <td>Waukesha, WI</td>\n",
       "      <td>waukesha-wi</td>\n",
       "      <td>WI</td>\n",
       "      <td>Town</td>\n",
       "      <td>{'web': {'discover': 'https://www.kickstarter....</td>\n",
       "    </tr>\n",
       "    <tr>\n",
       "      <th>4</th>\n",
       "      <td>US</td>\n",
       "      <td>Manhattan, NY</td>\n",
       "      <td>12589342</td>\n",
       "      <td>False</td>\n",
       "      <td>NaN</td>\n",
       "      <td>Manhattan</td>\n",
       "      <td>Manhattan, NY</td>\n",
       "      <td>manhattan-ny</td>\n",
       "      <td>NY</td>\n",
       "      <td>County</td>\n",
       "      <td>{'web': {'discover': 'https://www.kickstarter....</td>\n",
       "    </tr>\n",
       "  </tbody>\n",
       "</table>\n",
       "</div>"
      ],
      "text/plain": [
       "  country displayable_name        id  is_root localized_name        name  \\\n",
       "0      US   Louisville, KY   2442327    False            NaN  Louisville   \n",
       "1      US    Mint Hill, NC   2452209    False            NaN   Mint Hill   \n",
       "2      US     New York, NY   2459115    False            NaN    New York   \n",
       "3      US     Waukesha, WI   2515439    False            NaN    Waukesha   \n",
       "4      US    Manhattan, NY  12589342    False            NaN   Manhattan   \n",
       "\n",
       "       short_name           slug state    type  \\\n",
       "0  Louisville, KY  louisville-ky    KY    Town   \n",
       "1   Mint Hill, NC   mint-hill-nc    NC    Town   \n",
       "2    New York, NY    new-york-ny    NY    Town   \n",
       "3    Waukesha, WI    waukesha-wi    WI    Town   \n",
       "4   Manhattan, NY   manhattan-ny    NY  County   \n",
       "\n",
       "                                                urls  \n",
       "0  {'web': {'discover': 'https://www.kickstarter....  \n",
       "1  {'web': {'discover': 'https://www.kickstarter....  \n",
       "2  {'web': {'discover': 'https://www.kickstarter....  \n",
       "3  {'web': {'discover': 'https://www.kickstarter....  \n",
       "4  {'web': {'discover': 'https://www.kickstarter....  "
      ]
     },
     "execution_count": 26,
     "metadata": {},
     "output_type": "execute_result"
    }
   ],
   "source": [
    "#extracting location from json and replacing column\n",
    "loc = ks_us['location'].apply(json.loads)\n",
    "loc2=pd.DataFrame(loc.tolist())\n",
    "loc2.head()"
   ]
  },
  {
   "cell_type": "code",
   "execution_count": 27,
   "metadata": {
    "collapsed": true
   },
   "outputs": [],
   "source": [
    "#extracting location from json and replacing column\n",
    "loc2_list=loc2.displayable_name.values.tolist()\n",
    "loc2_type=loc2.type.values.tolist()"
   ]
  },
  {
   "cell_type": "code",
   "execution_count": 28,
   "metadata": {
    "collapsed": true
   },
   "outputs": [],
   "source": [
    "#extracting location from json and replacing column, also added new column location type\n",
    "ks_us.drop(labels=['location'], axis=1  , inplace=True  )\n",
    "ks_us['location']=loc2_list\n",
    "ks_us['location_type']=loc2_type"
   ]
  },
  {
   "cell_type": "code",
   "execution_count": 30,
   "metadata": {},
   "outputs": [
    {
     "data": {
      "text/plain": [
       "backers_count            0\n",
       "blurb                    0\n",
       "disable_communication    0\n",
       "goal                     0\n",
       "name                     0\n",
       "pledged                  0\n",
       "slug                     0\n",
       "spotlight                0\n",
       "staff_pick               0\n",
       "state                    0\n",
       "usd_pledged              0\n",
       "launch_to_deadline       0\n",
       "create_to_launch         0\n",
       "category                 0\n",
       "location                 0\n",
       "location_type            0\n",
       "dtype: int64"
      ]
     },
     "execution_count": 30,
     "metadata": {},
     "output_type": "execute_result"
    }
   ],
   "source": [
    "# checking that new columns have no nans\n",
    "ks_us.isnull().sum()"
   ]
  },
  {
   "cell_type": "code",
   "execution_count": 31,
   "metadata": {
    "collapsed": true
   },
   "outputs": [],
   "source": [
    "ks_us=ks_us.copy(True)"
   ]
  },
  {
   "cell_type": "code",
   "execution_count": 33,
   "metadata": {},
   "outputs": [
    {
     "data": {
      "text/plain": [
       "failed        75566\n",
       "successful    68891\n",
       "Name: state, dtype: int64"
      ]
     },
     "execution_count": 33,
     "metadata": {},
     "output_type": "execute_result"
    }
   ],
   "source": [
    "ks_us.state.value_counts()"
   ]
  },
  {
   "cell_type": "code",
   "execution_count": 34,
   "metadata": {
    "collapsed": true
   },
   "outputs": [],
   "source": [
    "ks_us['state']=ks_us['state'].map({'successful':1, 'failed':0})\n",
    "ks_us['staff_pick']=ks_us['staff_pick'].map({True:1, False:0})\n",
    "ks_us['spotlight']=ks_us['spotlight'].map({True:1, False:0})\n",
    "ks_us['disable_communication']=ks_us['disable_communication'].map({True:1, False:0})"
   ]
  },
  {
   "cell_type": "code",
   "execution_count": 38,
   "metadata": {
    "collapsed": true
   },
   "outputs": [],
   "source": [
    "ks_us['slug']=ks_us['slug'].str.replace('-', ' ')"
   ]
  },
  {
   "cell_type": "code",
   "execution_count": 40,
   "metadata": {
    "collapsed": true
   },
   "outputs": [],
   "source": [
    "del cat, cat2, ks, loc, loc2, concatenated_df"
   ]
  },
  {
   "cell_type": "code",
   "execution_count": 128,
   "metadata": {
    "collapsed": true
   },
   "outputs": [],
   "source": [
    "ks_us['data']= ks_us['name']+' '+ks_us['blurb']\n",
    "# ks_us['data']= ks_us['slug']"
   ]
  },
  {
   "cell_type": "markdown",
   "metadata": {},
   "source": [
    "## Visualization"
   ]
  },
  {
   "cell_type": "code",
   "execution_count": 329,
   "metadata": {},
   "outputs": [
    {
     "data": {
      "text/plain": [
       "<matplotlib.axes._subplots.AxesSubplot at 0x1a604b645c0>"
      ]
     },
     "execution_count": 329,
     "metadata": {},
     "output_type": "execute_result"
    },
    {
     "data": {
      "text/plain": [
       "<matplotlib.axes._subplots.AxesSubplot at 0x1a654581f98>"
      ]
     },
     "execution_count": 329,
     "metadata": {},
     "output_type": "execute_result"
    },
    {
     "data": {
      "text/plain": [
       "[<matplotlib.text.Text at 0x1a67fb998d0>,\n",
       " <matplotlib.text.Text at 0x1a6545868d0>]"
      ]
     },
     "execution_count": 329,
     "metadata": {},
     "output_type": "execute_result"
    },
    {
     "data": {
      "text/plain": [
       "[<matplotlib.text.Text at 0x1a639be7f60>,\n",
       " <matplotlib.text.Text at 0x1a5f7ff2fd0>]"
      ]
     },
     "execution_count": 329,
     "metadata": {},
     "output_type": "execute_result"
    },
    {
     "data": {
      "image/png": "[encoded data removed]",
      "text/plain": [
       "<matplotlib.figure.Figure at 0x1a6161fe278>"
      ]
     },
     "metadata": {},
     "output_type": "display_data"
    }
   ],
   "source": [
    "f, (ax1, ax2) = plt.subplots(1,2,figsize=(12, 5))\n",
    "\n",
    "sns.barplot ('state','goal',  data=ks_us, ax=ax1)\n",
    "\n",
    "sns.barplot ('state','backers_count',  data=ks_us, ax=ax2)\n",
    "ax2.set(ylabel='Number of Backers', xlabel='Fail or Success?') \n",
    "ax1.set(ylabel='Goal', xlabel='Fail or Success?') "
   ]
  },
  {
   "cell_type": "code",
   "execution_count": 325,
   "metadata": {},
   "outputs": [
    {
     "name": "stdout",
     "output_type": "stream",
     "text": [
      "Median goal for successful projects is $4000.00\n",
      "Median goal for failed projects is $6500.00\n"
     ]
    }
   ],
   "source": [
    "print (\"Median goal for successful projects is $%.2f\"%ks_us[ks_us['state']==1]['goal'].median())   \n",
    "print (\"Median goal for failed projects is $%.2f\"%ks_us[ks_us['state']==0]['goal'].median())"
   ]
  },
  {
   "cell_type": "markdown",
   "metadata": {},
   "source": [
    "###  Successfully funded projects have \\$ 2500 lower median goal!"
   ]
  },
  {
   "cell_type": "code",
   "execution_count": 316,
   "metadata": {},
   "outputs": [
    {
     "data": {
      "text/html": [
       "<div>\n",
       "<style>\n",
       "    .dataframe thead tr:only-child th {\n",
       "        text-align: right;\n",
       "    }\n",
       "\n",
       "    .dataframe thead th {\n",
       "        text-align: left;\n",
       "    }\n",
       "\n",
       "    .dataframe tbody tr th {\n",
       "        vertical-align: top;\n",
       "    }\n",
       "</style>\n",
       "<table border=\"1\" class=\"dataframe\">\n",
       "  <thead>\n",
       "    <tr style=\"text-align: right;\">\n",
       "      <th></th>\n",
       "      <th>staff_pick</th>\n",
       "      <th>state</th>\n",
       "      <th>percentage</th>\n",
       "    </tr>\n",
       "  </thead>\n",
       "  <tbody>\n",
       "    <tr>\n",
       "      <th>1</th>\n",
       "      <td>0</td>\n",
       "      <td>1</td>\n",
       "      <td>42.653239</td>\n",
       "    </tr>\n",
       "    <tr>\n",
       "      <th>2</th>\n",
       "      <td>1</td>\n",
       "      <td>1</td>\n",
       "      <td>85.060620</td>\n",
       "    </tr>\n",
       "  </tbody>\n",
       "</table>\n",
       "</div>"
      ],
      "text/plain": [
       "   staff_pick  state  percentage\n",
       "1           0      1   42.653239\n",
       "2           1      1   85.060620"
      ]
     },
     "execution_count": 316,
     "metadata": {},
     "output_type": "execute_result"
    },
    {
     "data": {
      "text/html": [
       "<div>\n",
       "<style>\n",
       "    .dataframe thead tr:only-child th {\n",
       "        text-align: right;\n",
       "    }\n",
       "\n",
       "    .dataframe thead th {\n",
       "        text-align: left;\n",
       "    }\n",
       "\n",
       "    .dataframe tbody tr th {\n",
       "        vertical-align: top;\n",
       "    }\n",
       "</style>\n",
       "<table border=\"1\" class=\"dataframe\">\n",
       "  <thead>\n",
       "    <tr style=\"text-align: right;\">\n",
       "      <th></th>\n",
       "      <th>spotlight</th>\n",
       "      <th>state</th>\n",
       "      <th>percentage</th>\n",
       "    </tr>\n",
       "  </thead>\n",
       "  <tbody>\n",
       "    <tr>\n",
       "      <th>1</th>\n",
       "      <td>1</td>\n",
       "      <td>1</td>\n",
       "      <td>100.0</td>\n",
       "    </tr>\n",
       "  </tbody>\n",
       "</table>\n",
       "</div>"
      ],
      "text/plain": [
       "   spotlight  state  percentage\n",
       "1          1      1       100.0"
      ]
     },
     "execution_count": 316,
     "metadata": {},
     "output_type": "execute_result"
    }
   ],
   "source": [
    "tdf_counts=ks_us.groupby(['staff_pick'])['state'].value_counts(normalize=True).rename('percentage').mul(100).reset_index()\n",
    "tdf_counts2_sp=tdf_counts[tdf_counts[\"state\"]==1]\n",
    "tdf_counts2_sp.head()\n",
    "\n",
    "tdf_counts=ks_us.groupby(['spotlight'])['state'].value_counts(normalize=True).rename('percentage').mul(100).reset_index()\n",
    "tdf_counts2_s=tdf_counts[tdf_counts[\"state\"]==1]\n",
    "tdf_counts2_s.head()"
   ]
  },
  {
   "cell_type": "code",
   "execution_count": 330,
   "metadata": {},
   "outputs": [
    {
     "data": {
      "text/plain": [
       "(-1.5, 0.5)"
      ]
     },
     "execution_count": 330,
     "metadata": {},
     "output_type": "execute_result"
    },
    {
     "data": {
      "text/plain": [
       "[<matplotlib.text.Text at 0x1a696faff98>,\n",
       " <matplotlib.text.Text at 0x1a6ae9984a8>]"
      ]
     },
     "execution_count": 330,
     "metadata": {},
     "output_type": "execute_result"
    },
    {
     "data": {
      "text/plain": [
       "[<matplotlib.text.Text at 0x1a6c2464ef0>,\n",
       " <matplotlib.text.Text at 0x1a6b84fc080>]"
      ]
     },
     "execution_count": 330,
     "metadata": {},
     "output_type": "execute_result"
    },
    {
     "data": {
      "image/png": "[encoded data removed]",
      "text/plain": [
       "<matplotlib.figure.Figure at 0x1a6ae973f98>"
      ]
     },
     "metadata": {},
     "output_type": "display_data"
    }
   ],
   "source": [
    "f, (ax1, ax2) = plt.subplots(1,2,figsize=(12, 5))\n",
    "\n",
    "g=sns.barplot(x=\"staff_pick\",y=\"percentage\", data=tdf_counts2_sp, ax=ax1)\n",
    "g=sns.barplot(x=\"spotlight\",y=\"percentage\", data=tdf_counts2_s, ax=ax2, palette=['forestgreen'], alpha=0.75)\n",
    "ax2.set_xlim(-1.5,)\n",
    "ax1.set(ylabel='Percentage Success', xlabel='Staff pick?') \n",
    "ax2.set(ylabel='Percentage Success', xlabel='Spotlight?')"
   ]
  },
  {
   "cell_type": "markdown",
   "metadata": {},
   "source": [
    "### Projects under spotlight have a 100% chance of success.\n",
    "\n",
    "### If the project is a staff pick, chance of success is doubled."
   ]
  },
  {
   "cell_type": "code",
   "execution_count": 331,
   "metadata": {},
   "outputs": [
    {
     "data": {
      "text/plain": [
       "<matplotlib.axes._subplots.AxesSubplot at 0x1a553b086d8>"
      ]
     },
     "execution_count": 331,
     "metadata": {},
     "output_type": "execute_result"
    },
    {
     "data": {
      "text/plain": [
       "<matplotlib.axes._subplots.AxesSubplot at 0x1a5178c80f0>"
      ]
     },
     "execution_count": 331,
     "metadata": {},
     "output_type": "execute_result"
    },
    {
     "data": {
      "text/plain": [
       "[<matplotlib.text.Text at 0x1a57ee11358>,\n",
       " <matplotlib.text.Text at 0x1a5022896d8>]"
      ]
     },
     "execution_count": 331,
     "metadata": {},
     "output_type": "execute_result"
    },
    {
     "data": {
      "text/plain": [
       "[<matplotlib.text.Text at 0x1a517964da0>,\n",
       " <matplotlib.text.Text at 0x1a5178c9630>]"
      ]
     },
     "execution_count": 331,
     "metadata": {},
     "output_type": "execute_result"
    },
    {
     "data": {
      "image/png": "[encoded data removed]",
      "text/plain": [
       "<matplotlib.figure.Figure at 0x1a6ae97bb00>"
      ]
     },
     "metadata": {},
     "output_type": "display_data"
    }
   ],
   "source": [
    "f, (ax1, ax2) = plt.subplots(1,2,figsize=(12, 5))\n",
    "\n",
    "sns.barplot ('state','launch_to_deadline',  data=ks_us, ax=ax1)\n",
    " \n",
    "sns.barplot ('state','create_to_launch',  data=ks_us, ax=ax2)\n",
    "\n",
    "ax1.set(ylabel='Mean (# days)', xlabel='Fail or Success?') \n",
    "ax2.set(ylabel='Mean (# days)', xlabel='Fail or Success?')"
   ]
  },
  {
   "cell_type": "code",
   "execution_count": 196,
   "metadata": {},
   "outputs": [
    {
     "data": {
      "text/plain": [
       "(0, 65)"
      ]
     },
     "execution_count": 196,
     "metadata": {},
     "output_type": "execute_result"
    },
    {
     "data": {
      "text/plain": [
       "[<matplotlib.text.Text at 0x1a706e2a978>,\n",
       " <matplotlib.text.Text at 0x1a68360eda0>]"
      ]
     },
     "execution_count": 196,
     "metadata": {},
     "output_type": "execute_result"
    },
    {
     "data": {
      "image/png": "[encoded data removed]",
      "text/plain": [
       "<matplotlib.figure.Figure at 0x1a6b8eca6a0>"
      ]
     },
     "metadata": {},
     "output_type": "display_data"
    }
   ],
   "source": [
    "# Set up the matplotlib figure\n",
    "f, ax1 = plt.subplots(figsize=(20, 10))\n",
    "ax1=sns.kdeplot(ks_us[ks_us.state==0]['launch_to_deadline'], shade=True)\n",
    "\n",
    "ax1=sns.kdeplot(ks_us[ks_us.state==1]['launch_to_deadline'], color='green', shade=True )\n",
    "sns.plt.xlim(0,65)\n",
    "\n",
    "ax1.set(xlabel='Time from launch to deadline, days', ylabel='Probability density') \n",
    "ax1.legend_.remove()\n",
    "plt.show()"
   ]
  },
  {
   "cell_type": "markdown",
   "metadata": {},
   "source": [
    "### 50 % of successful projects set the deadline to ~30 days after launch, while only half (~22 %) the number of failed projects did the same.\n",
    "\n",
    "### 30 day projects may produce a sense of urgency while giving enough time to find backers.\n"
   ]
  },
  {
   "cell_type": "code",
   "execution_count": 340,
   "metadata": {},
   "outputs": [
    {
     "data": {
      "text/html": [
       "<div>\n",
       "<style>\n",
       "    .dataframe thead tr:only-child th {\n",
       "        text-align: right;\n",
       "    }\n",
       "\n",
       "    .dataframe thead th {\n",
       "        text-align: left;\n",
       "    }\n",
       "\n",
       "    .dataframe tbody tr th {\n",
       "        vertical-align: top;\n",
       "    }\n",
       "</style>\n",
       "<table border=\"1\" class=\"dataframe\">\n",
       "  <thead>\n",
       "    <tr style=\"text-align: right;\">\n",
       "      <th></th>\n",
       "      <th>category</th>\n",
       "      <th>state</th>\n",
       "      <th>count</th>\n",
       "    </tr>\n",
       "  </thead>\n",
       "  <tbody>\n",
       "    <tr>\n",
       "      <th>1</th>\n",
       "      <td>3D Printing</td>\n",
       "      <td>1</td>\n",
       "      <td>133</td>\n",
       "    </tr>\n",
       "    <tr>\n",
       "      <th>3</th>\n",
       "      <td>Academic</td>\n",
       "      <td>1</td>\n",
       "      <td>108</td>\n",
       "    </tr>\n",
       "    <tr>\n",
       "      <th>5</th>\n",
       "      <td>Accessories</td>\n",
       "      <td>1</td>\n",
       "      <td>445</td>\n",
       "    </tr>\n",
       "    <tr>\n",
       "      <th>7</th>\n",
       "      <td>Action</td>\n",
       "      <td>1</td>\n",
       "      <td>64</td>\n",
       "    </tr>\n",
       "    <tr>\n",
       "      <th>9</th>\n",
       "      <td>Animals</td>\n",
       "      <td>1</td>\n",
       "      <td>38</td>\n",
       "    </tr>\n",
       "  </tbody>\n",
       "</table>\n",
       "</div>"
      ],
      "text/plain": [
       "      category  state  count\n",
       "1  3D Printing      1    133\n",
       "3     Academic      1    108\n",
       "5  Accessories      1    445\n",
       "7       Action      1     64\n",
       "9      Animals      1     38"
      ]
     },
     "execution_count": 340,
     "metadata": {},
     "output_type": "execute_result"
    }
   ],
   "source": [
    "tdf_counts=ks_us.groupby(['category'])['state'].value_counts(normalize=False).rename('count').mul(1).reset_index()\n",
    "tdf_counts2=tdf_counts[tdf_counts[\"state\"]==1]\n",
    "tdf_counts2.head()"
   ]
  },
  {
   "cell_type": "code",
   "execution_count": 341,
   "metadata": {},
   "outputs": [
    {
     "name": "stderr",
     "output_type": "stream",
     "text": [
      "C:\\Program Files\\Anaconda3\\lib\\site-packages\\ipykernel\\__main__.py:3: SettingWithCopyWarning: \n",
      "A value is trying to be set on a copy of a slice from a DataFrame.\n",
      "Try using .loc[row_indexer,col_indexer] = value instead\n",
      "\n",
      "See the caveats in the documentation: http://pandas.pydata.org/pandas-docs/stable/indexing.html#indexing-view-versus-copy\n",
      "  app.launch_new_instance()\n"
     ]
    }
   ],
   "source": [
    "tdf_counts=ks_us.groupby(['category'])['state'].value_counts(normalize=True).rename('percentage').mul(100).reset_index()\n",
    "tdf_counts3=tdf_counts[tdf_counts[\"state\"]==1]\n",
    "tdf_counts3['count']=tdf_counts2['count']\n",
    "tdf_counts3=tdf_counts3[tdf_counts3[\"count\"]>50]\n",
    "tdf_counts3=tdf_counts3.sort_values(by=[\"percentage\"])"
   ]
  },
  {
   "cell_type": "code",
   "execution_count": 342,
   "metadata": {},
   "outputs": [
    {
     "data": {
      "text/plain": [
       "[<matplotlib.text.Text at 0x1a6b92508d0>,\n",
       " <matplotlib.text.Text at 0x1a688f176d8>]"
      ]
     },
     "execution_count": 342,
     "metadata": {},
     "output_type": "execute_result"
    },
    {
     "data": {
      "image/png": "[encoded data removed]",
      "text/plain": [
       "<matplotlib.figure.Figure at 0x1a6da49f630>"
      ]
     },
     "metadata": {},
     "output_type": "display_data"
    }
   ],
   "source": [
    "f, (ax1) = plt.subplots(1,1,figsize=(15, 20))\n",
    "\n",
    "g=sns.barplot(y=\"category\",x=\"percentage\", data=tdf_counts3, ax=ax1)\n",
    "ax1.set(xlabel='Percentage Success', ylabel='Category')"
   ]
  },
  {
   "cell_type": "markdown",
   "metadata": {},
   "source": [
    "### Categories with least success (<15%): Apps, Mobile Games, Web, Food Trucks\n",
    "\n",
    "### Categories with most success (100%): Shorts, Tabletop Games, Product Design, Documentary\n"
   ]
  },
  {
   "cell_type": "markdown",
   "metadata": {},
   "source": [
    "## Sentiment Analysis of project name and blurb"
   ]
  },
  {
   "cell_type": "code",
   "execution_count": 129,
   "metadata": {
    "scrolled": true
   },
   "outputs": [
    {
     "data": {
      "text/html": [
       "<div>\n",
       "<style>\n",
       "    .dataframe thead tr:only-child th {\n",
       "        text-align: right;\n",
       "    }\n",
       "\n",
       "    .dataframe thead th {\n",
       "        text-align: left;\n",
       "    }\n",
       "\n",
       "    .dataframe tbody tr th {\n",
       "        vertical-align: top;\n",
       "    }\n",
       "</style>\n",
       "<table border=\"1\" class=\"dataframe\">\n",
       "  <thead>\n",
       "    <tr style=\"text-align: right;\">\n",
       "      <th></th>\n",
       "      <th>backers_count</th>\n",
       "      <th>blurb</th>\n",
       "      <th>disable_communication</th>\n",
       "      <th>goal</th>\n",
       "      <th>name</th>\n",
       "      <th>pledged</th>\n",
       "      <th>slug</th>\n",
       "      <th>spotlight</th>\n",
       "      <th>staff_pick</th>\n",
       "      <th>state</th>\n",
       "      <th>usd_pledged</th>\n",
       "      <th>launch_to_deadline</th>\n",
       "      <th>create_to_launch</th>\n",
       "      <th>category</th>\n",
       "      <th>location</th>\n",
       "      <th>location_type</th>\n",
       "      <th>data</th>\n",
       "    </tr>\n",
       "  </thead>\n",
       "  <tbody>\n",
       "    <tr>\n",
       "      <th>1</th>\n",
       "      <td>40</td>\n",
       "      <td>Bring a touring character education play about...</td>\n",
       "      <td>0</td>\n",
       "      <td>3500.0</td>\n",
       "      <td>Kylie for President</td>\n",
       "      <td>3530.0</td>\n",
       "      <td>kylie for president</td>\n",
       "      <td>1</td>\n",
       "      <td>0</td>\n",
       "      <td>1</td>\n",
       "      <td>3530.0</td>\n",
       "      <td>20.537882</td>\n",
       "      <td>18.844549</td>\n",
       "      <td>Plays</td>\n",
       "      <td>Louisville, KY</td>\n",
       "      <td>Town</td>\n",
       "      <td>0.6996</td>\n",
       "    </tr>\n",
       "    <tr>\n",
       "      <th>6</th>\n",
       "      <td>16</td>\n",
       "      <td>The Black and White Theatre Company Inc. is a ...</td>\n",
       "      <td>0</td>\n",
       "      <td>800.0</td>\n",
       "      <td>The Black and White Theatre Company Inc.</td>\n",
       "      <td>1030.0</td>\n",
       "      <td>the black and white theatre company inc</td>\n",
       "      <td>1</td>\n",
       "      <td>0</td>\n",
       "      <td>1</td>\n",
       "      <td>1030.0</td>\n",
       "      <td>18.000000</td>\n",
       "      <td>6.558206</td>\n",
       "      <td>Plays</td>\n",
       "      <td>Mint Hill, NC</td>\n",
       "      <td>Town</td>\n",
       "      <td>0.9030</td>\n",
       "    </tr>\n",
       "    <tr>\n",
       "      <th>7</th>\n",
       "      <td>199</td>\n",
       "      <td>Goldfish Memory Productions seeks at least $12...</td>\n",
       "      <td>0</td>\n",
       "      <td>12000.0</td>\n",
       "      <td>Goldfish Memory Productions</td>\n",
       "      <td>12348.5</td>\n",
       "      <td>goldfish memory productions</td>\n",
       "      <td>1</td>\n",
       "      <td>0</td>\n",
       "      <td>1</td>\n",
       "      <td>12348.5</td>\n",
       "      <td>20.591690</td>\n",
       "      <td>5.426285</td>\n",
       "      <td>Plays</td>\n",
       "      <td>New York, NY</td>\n",
       "      <td>Town</td>\n",
       "      <td>0.0000</td>\n",
       "    </tr>\n",
       "    <tr>\n",
       "      <th>9</th>\n",
       "      <td>30</td>\n",
       "      <td>Bert V. Royal makes a strong statement about d...</td>\n",
       "      <td>0</td>\n",
       "      <td>2000.0</td>\n",
       "      <td>DOG SEES GOD: Confessions of a Teenage Blockhead</td>\n",
       "      <td>2202.0</td>\n",
       "      <td>dog sees god confessions of a teenage blockhead 0</td>\n",
       "      <td>1</td>\n",
       "      <td>0</td>\n",
       "      <td>1</td>\n",
       "      <td>2202.0</td>\n",
       "      <td>34.446285</td>\n",
       "      <td>55.619803</td>\n",
       "      <td>Plays</td>\n",
       "      <td>Waukesha, WI</td>\n",
       "      <td>Town</td>\n",
       "      <td>0.1737</td>\n",
       "    </tr>\n",
       "    <tr>\n",
       "      <th>10</th>\n",
       "      <td>34</td>\n",
       "      <td>In The Dudleys! family memories are brought to...</td>\n",
       "      <td>0</td>\n",
       "      <td>3000.0</td>\n",
       "      <td>Loading Dock Theatre Presents: The Dudleys! A ...</td>\n",
       "      <td>3383.0</td>\n",
       "      <td>loading dock theatre presents the dudleys a fa...</td>\n",
       "      <td>1</td>\n",
       "      <td>0</td>\n",
       "      <td>1</td>\n",
       "      <td>3383.0</td>\n",
       "      <td>21.000000</td>\n",
       "      <td>51.938426</td>\n",
       "      <td>Plays</td>\n",
       "      <td>Manhattan, NY</td>\n",
       "      <td>County</td>\n",
       "      <td>0.0000</td>\n",
       "    </tr>\n",
       "  </tbody>\n",
       "</table>\n",
       "</div>"
      ],
      "text/plain": [
       "    backers_count                                              blurb  \\\n",
       "1              40  Bring a touring character education play about...   \n",
       "6              16  The Black and White Theatre Company Inc. is a ...   \n",
       "7             199  Goldfish Memory Productions seeks at least $12...   \n",
       "9              30  Bert V. Royal makes a strong statement about d...   \n",
       "10             34  In The Dudleys! family memories are brought to...   \n",
       "\n",
       "    disable_communication     goal  \\\n",
       "1                       0   3500.0   \n",
       "6                       0    800.0   \n",
       "7                       0  12000.0   \n",
       "9                       0   2000.0   \n",
       "10                      0   3000.0   \n",
       "\n",
       "                                                 name  pledged  \\\n",
       "1                                 Kylie for President   3530.0   \n",
       "6            The Black and White Theatre Company Inc.   1030.0   \n",
       "7                         Goldfish Memory Productions  12348.5   \n",
       "9    DOG SEES GOD: Confessions of a Teenage Blockhead   2202.0   \n",
       "10  Loading Dock Theatre Presents: The Dudleys! A ...   3383.0   \n",
       "\n",
       "                                                 slug  spotlight  staff_pick  \\\n",
       "1                                 kylie for president          1           0   \n",
       "6             the black and white theatre company inc          1           0   \n",
       "7                         goldfish memory productions          1           0   \n",
       "9   dog sees god confessions of a teenage blockhead 0          1           0   \n",
       "10  loading dock theatre presents the dudleys a fa...          1           0   \n",
       "\n",
       "    state  usd_pledged  launch_to_deadline  create_to_launch category  \\\n",
       "1       1       3530.0           20.537882         18.844549    Plays   \n",
       "6       1       1030.0           18.000000          6.558206    Plays   \n",
       "7       1      12348.5           20.591690          5.426285    Plays   \n",
       "9       1       2202.0           34.446285         55.619803    Plays   \n",
       "10      1       3383.0           21.000000         51.938426    Plays   \n",
       "\n",
       "          location location_type    data  \n",
       "1   Louisville, KY          Town  0.6996  \n",
       "6    Mint Hill, NC          Town  0.9030  \n",
       "7     New York, NY          Town  0.0000  \n",
       "9     Waukesha, WI          Town  0.1737  \n",
       "10   Manhattan, NY        County  0.0000  "
      ]
     },
     "execution_count": 129,
     "metadata": {},
     "output_type": "execute_result"
    }
   ],
   "source": [
    "#lexicon and rule-based sentiment analysis tool Vader is used\n",
    "from vaderSentiment.vaderSentiment import SentimentIntensityAnalyzer\n",
    "\n",
    "analyser = SentimentIntensityAnalyzer()\n",
    "polarity_columns=['data']\n",
    "ks_us2=ks_us.copy(deep=True)\n",
    "for i in polarity_columns:\n",
    "    ks_us2[i]=ks_us2[i].apply(lambda y: analyser.polarity_scores(y.replace('-', ' '))['compound'])\n",
    "\n",
    "ks_us2.head()"
   ]
  },
  {
   "cell_type": "code",
   "execution_count": 352,
   "metadata": {},
   "outputs": [
    {
     "data": {
      "text/plain": [
       "<matplotlib.axes._subplots.AxesSubplot at 0x1a6b8a13748>"
      ]
     },
     "execution_count": 352,
     "metadata": {},
     "output_type": "execute_result"
    },
    {
     "data": {
      "text/plain": [
       "<matplotlib.axes._subplots.AxesSubplot at 0x1a69820c588>"
      ]
     },
     "execution_count": 352,
     "metadata": {},
     "output_type": "execute_result"
    },
    {
     "data": {
      "image/png": "[encoded data removed]",
      "text/plain": [
       "<matplotlib.figure.Figure at 0x1a6b880b208>"
      ]
     },
     "metadata": {},
     "output_type": "display_data"
    }
   ],
   "source": [
    "f, (ax1, ax2) = plt.subplots(1,2,figsize=(12, 5))\n",
    "sns.violinplot ('state','data',  data=ks_us2, capsize=.1, ax=ax1)\n",
    "sns.barplot ('state','data',  data=ks_us2, capsize=.1, ax=ax2)\n",
    "# sns.plt.ylim(0.25,0.30)"
   ]
  },
  {
   "cell_type": "code",
   "execution_count": 356,
   "metadata": {},
   "outputs": [
    {
     "name": "stdout",
     "output_type": "stream",
     "text": [
      "Successful projects: median 0.41  mean 0.30\n",
      "Successful projects: median 0.44  mean 0.34\n",
      "p-value is 1.45533833867e-36\n"
     ]
    }
   ],
   "source": [
    "from scipy import stats\n",
    "Succ_desc=ks_us2[ks_us2.state==1]\n",
    "Fail_desc=ks_us2[ks_us2.state==0]\n",
    "t_stat, p_val=stats.ttest_ind(Succ_desc['data'], Fail_desc['data'])\n",
    "print (\"Successful projects: median %.2f\" %Succ_desc['data'].median(), \" mean %.2f\" %Succ_desc['data'].mean())\n",
    "print (\"Successful projects: median %.2f\" %Fail_desc['data'].median(), \" mean %.2f\" %Fail_desc['data'].mean())\n",
    "print('p-value is', p_val)"
   ]
  },
  {
   "cell_type": "markdown",
   "metadata": {},
   "source": [
    "###  Sentiment analysis on the descriptions and names of projects shows a majority of projects reflect a positive sentiment. Interestingly, the mean sentiment of the population for successful projects is significantly (*p* <<< 0.0001) lower than failed projects. "
   ]
  },
  {
   "cell_type": "code",
   "execution_count": 131,
   "metadata": {
    "collapsed": true
   },
   "outputs": [],
   "source": [
    "ks_us3=ks_us2.copy(True)"
   ]
  },
  {
   "cell_type": "code",
   "execution_count": 50,
   "metadata": {},
   "outputs": [
    {
     "data": {
      "text/html": [
       "<div>\n",
       "<style>\n",
       "    .dataframe thead tr:only-child th {\n",
       "        text-align: right;\n",
       "    }\n",
       "\n",
       "    .dataframe thead th {\n",
       "        text-align: left;\n",
       "    }\n",
       "\n",
       "    .dataframe tbody tr th {\n",
       "        vertical-align: top;\n",
       "    }\n",
       "</style>\n",
       "<table border=\"1\" class=\"dataframe\">\n",
       "  <thead>\n",
       "    <tr style=\"text-align: right;\">\n",
       "      <th></th>\n",
       "      <th>backers_count</th>\n",
       "      <th>blurb</th>\n",
       "      <th>disable_communication</th>\n",
       "      <th>goal</th>\n",
       "      <th>name</th>\n",
       "      <th>pledged</th>\n",
       "      <th>slug</th>\n",
       "      <th>spotlight</th>\n",
       "      <th>staff_pick</th>\n",
       "      <th>state</th>\n",
       "      <th>usd_pledged</th>\n",
       "      <th>launch_to_deadline</th>\n",
       "      <th>create_to_launch</th>\n",
       "      <th>category</th>\n",
       "      <th>location</th>\n",
       "      <th>location_type</th>\n",
       "      <th>data</th>\n",
       "    </tr>\n",
       "  </thead>\n",
       "  <tbody>\n",
       "    <tr>\n",
       "      <th>1</th>\n",
       "      <td>40</td>\n",
       "      <td>Bring a touring character education play about...</td>\n",
       "      <td>0</td>\n",
       "      <td>3500.0</td>\n",
       "      <td>Kylie for President</td>\n",
       "      <td>3530.0</td>\n",
       "      <td>kylie for president</td>\n",
       "      <td>1</td>\n",
       "      <td>0</td>\n",
       "      <td>1</td>\n",
       "      <td>3530.0</td>\n",
       "      <td>20.537882</td>\n",
       "      <td>18.844549</td>\n",
       "      <td>Plays</td>\n",
       "      <td>Louisville, KY</td>\n",
       "      <td>Town</td>\n",
       "      <td>0.0000</td>\n",
       "    </tr>\n",
       "    <tr>\n",
       "      <th>6</th>\n",
       "      <td>16</td>\n",
       "      <td>The Black and White Theatre Company Inc. is a ...</td>\n",
       "      <td>0</td>\n",
       "      <td>800.0</td>\n",
       "      <td>The Black and White Theatre Company Inc.</td>\n",
       "      <td>1030.0</td>\n",
       "      <td>the black and white theatre company inc</td>\n",
       "      <td>1</td>\n",
       "      <td>0</td>\n",
       "      <td>1</td>\n",
       "      <td>1030.0</td>\n",
       "      <td>18.000000</td>\n",
       "      <td>6.558206</td>\n",
       "      <td>Plays</td>\n",
       "      <td>Mint Hill, NC</td>\n",
       "      <td>Town</td>\n",
       "      <td>0.0000</td>\n",
       "    </tr>\n",
       "    <tr>\n",
       "      <th>7</th>\n",
       "      <td>199</td>\n",
       "      <td>Goldfish Memory Productions seeks at least $12...</td>\n",
       "      <td>0</td>\n",
       "      <td>12000.0</td>\n",
       "      <td>Goldfish Memory Productions</td>\n",
       "      <td>12348.5</td>\n",
       "      <td>goldfish memory productions</td>\n",
       "      <td>1</td>\n",
       "      <td>0</td>\n",
       "      <td>1</td>\n",
       "      <td>12348.5</td>\n",
       "      <td>20.591690</td>\n",
       "      <td>5.426285</td>\n",
       "      <td>Plays</td>\n",
       "      <td>New York, NY</td>\n",
       "      <td>Town</td>\n",
       "      <td>0.0000</td>\n",
       "    </tr>\n",
       "    <tr>\n",
       "      <th>9</th>\n",
       "      <td>30</td>\n",
       "      <td>Bert V. Royal makes a strong statement about d...</td>\n",
       "      <td>0</td>\n",
       "      <td>2000.0</td>\n",
       "      <td>DOG SEES GOD: Confessions of a Teenage Blockhead</td>\n",
       "      <td>2202.0</td>\n",
       "      <td>dog sees god confessions of a teenage blockhead 0</td>\n",
       "      <td>1</td>\n",
       "      <td>0</td>\n",
       "      <td>1</td>\n",
       "      <td>2202.0</td>\n",
       "      <td>34.446285</td>\n",
       "      <td>55.619803</td>\n",
       "      <td>Plays</td>\n",
       "      <td>Waukesha, WI</td>\n",
       "      <td>Town</td>\n",
       "      <td>0.2732</td>\n",
       "    </tr>\n",
       "    <tr>\n",
       "      <th>10</th>\n",
       "      <td>34</td>\n",
       "      <td>In The Dudleys! family memories are brought to...</td>\n",
       "      <td>0</td>\n",
       "      <td>3000.0</td>\n",
       "      <td>Loading Dock Theatre Presents: The Dudleys! A ...</td>\n",
       "      <td>3383.0</td>\n",
       "      <td>loading dock theatre presents the dudleys a fa...</td>\n",
       "      <td>1</td>\n",
       "      <td>0</td>\n",
       "      <td>1</td>\n",
       "      <td>3383.0</td>\n",
       "      <td>21.000000</td>\n",
       "      <td>51.938426</td>\n",
       "      <td>Plays</td>\n",
       "      <td>Manhattan, NY</td>\n",
       "      <td>County</td>\n",
       "      <td>0.0000</td>\n",
       "    </tr>\n",
       "  </tbody>\n",
       "</table>\n",
       "</div>"
      ],
      "text/plain": [
       "    backers_count                                              blurb  \\\n",
       "1              40  Bring a touring character education play about...   \n",
       "6              16  The Black and White Theatre Company Inc. is a ...   \n",
       "7             199  Goldfish Memory Productions seeks at least $12...   \n",
       "9              30  Bert V. Royal makes a strong statement about d...   \n",
       "10             34  In The Dudleys! family memories are brought to...   \n",
       "\n",
       "    disable_communication     goal  \\\n",
       "1                       0   3500.0   \n",
       "6                       0    800.0   \n",
       "7                       0  12000.0   \n",
       "9                       0   2000.0   \n",
       "10                      0   3000.0   \n",
       "\n",
       "                                                 name  pledged  \\\n",
       "1                                 Kylie for President   3530.0   \n",
       "6            The Black and White Theatre Company Inc.   1030.0   \n",
       "7                         Goldfish Memory Productions  12348.5   \n",
       "9    DOG SEES GOD: Confessions of a Teenage Blockhead   2202.0   \n",
       "10  Loading Dock Theatre Presents: The Dudleys! A ...   3383.0   \n",
       "\n",
       "                                                 slug  spotlight  staff_pick  \\\n",
       "1                                 kylie for president          1           0   \n",
       "6             the black and white theatre company inc          1           0   \n",
       "7                         goldfish memory productions          1           0   \n",
       "9   dog sees god confessions of a teenage blockhead 0          1           0   \n",
       "10  loading dock theatre presents the dudleys a fa...          1           0   \n",
       "\n",
       "    state  usd_pledged  launch_to_deadline  create_to_launch category  \\\n",
       "1       1       3530.0           20.537882         18.844549    Plays   \n",
       "6       1       1030.0           18.000000          6.558206    Plays   \n",
       "7       1      12348.5           20.591690          5.426285    Plays   \n",
       "9       1       2202.0           34.446285         55.619803    Plays   \n",
       "10      1       3383.0           21.000000         51.938426    Plays   \n",
       "\n",
       "          location location_type    data  \n",
       "1   Louisville, KY          Town  0.0000  \n",
       "6    Mint Hill, NC          Town  0.0000  \n",
       "7     New York, NY          Town  0.0000  \n",
       "9     Waukesha, WI          Town  0.2732  \n",
       "10   Manhattan, NY        County  0.0000  "
      ]
     },
     "execution_count": 50,
     "metadata": {},
     "output_type": "execute_result"
    }
   ],
   "source": [
    "ks_us2.head()"
   ]
  },
  {
   "cell_type": "code",
   "execution_count": 175,
   "metadata": {
    "collapsed": true
   },
   "outputs": [],
   "source": [
    "ks_us2=ks_us3.copy(True)"
   ]
  },
  {
   "cell_type": "markdown",
   "metadata": {},
   "source": [
    "## Machine learning model to predict whether a project will succeed or fail"
   ]
  },
  {
   "cell_type": "code",
   "execution_count": 176,
   "metadata": {
    "collapsed": true
   },
   "outputs": [],
   "source": [
    "ks_us2=pd.get_dummies(columns=['category'], data=ks_us2) # one-hot encoding\n",
    "\n",
    "ks_us2.drop(labels=['blurb','name','slug', 'staff_pick', 'spotlight','location', 'usd_pledged', 'location_type'], axis=1  , inplace=True  )\n"
   ]
  },
  {
   "cell_type": "code",
   "execution_count": 177,
   "metadata": {
    "collapsed": true
   },
   "outputs": [],
   "source": [
    "#Separating label from dataset\n",
    "y=ks_us2.state.copy() # Making a copy of labels\n",
    "y_bc=ks_us2.backers_count.copy()\n",
    "y_p=ks_us2.pledged.copy()\n",
    "sub_train=ks_us2.copy(deep=True)\n",
    "#dropping columns that will not be available to a new kickstarter project and the label\n",
    "sub_train.drop(labels=[\"state\", 'pledged', 'backers_count'], axis=1, inplace=True)\n"
   ]
  },
  {
   "cell_type": "code",
   "execution_count": 178,
   "metadata": {},
   "outputs": [
    {
     "data": {
      "text/html": [
       "<div>\n",
       "<style>\n",
       "    .dataframe thead tr:only-child th {\n",
       "        text-align: right;\n",
       "    }\n",
       "\n",
       "    .dataframe thead th {\n",
       "        text-align: left;\n",
       "    }\n",
       "\n",
       "    .dataframe tbody tr th {\n",
       "        vertical-align: top;\n",
       "    }\n",
       "</style>\n",
       "<table border=\"1\" class=\"dataframe\">\n",
       "  <thead>\n",
       "    <tr style=\"text-align: right;\">\n",
       "      <th></th>\n",
       "      <th>disable_communication</th>\n",
       "      <th>goal</th>\n",
       "      <th>launch_to_deadline</th>\n",
       "      <th>create_to_launch</th>\n",
       "      <th>data</th>\n",
       "      <th>category_3D Printing</th>\n",
       "      <th>category_Academic</th>\n",
       "      <th>category_Accessories</th>\n",
       "      <th>category_Action</th>\n",
       "      <th>category_Animals</th>\n",
       "      <th>...</th>\n",
       "      <th>category_Wearables</th>\n",
       "      <th>category_Weaving</th>\n",
       "      <th>category_Web</th>\n",
       "      <th>category_Webcomics</th>\n",
       "      <th>category_Webseries</th>\n",
       "      <th>category_Woodworking</th>\n",
       "      <th>category_Workshops</th>\n",
       "      <th>category_World Music</th>\n",
       "      <th>category_Young Adult</th>\n",
       "      <th>category_Zines</th>\n",
       "    </tr>\n",
       "  </thead>\n",
       "  <tbody>\n",
       "    <tr>\n",
       "      <th>1</th>\n",
       "      <td>0</td>\n",
       "      <td>3500.0</td>\n",
       "      <td>20.537882</td>\n",
       "      <td>18.844549</td>\n",
       "      <td>0.6996</td>\n",
       "      <td>0</td>\n",
       "      <td>0</td>\n",
       "      <td>0</td>\n",
       "      <td>0</td>\n",
       "      <td>0</td>\n",
       "      <td>...</td>\n",
       "      <td>0</td>\n",
       "      <td>0</td>\n",
       "      <td>0</td>\n",
       "      <td>0</td>\n",
       "      <td>0</td>\n",
       "      <td>0</td>\n",
       "      <td>0</td>\n",
       "      <td>0</td>\n",
       "      <td>0</td>\n",
       "      <td>0</td>\n",
       "    </tr>\n",
       "    <tr>\n",
       "      <th>6</th>\n",
       "      <td>0</td>\n",
       "      <td>800.0</td>\n",
       "      <td>18.000000</td>\n",
       "      <td>6.558206</td>\n",
       "      <td>0.9030</td>\n",
       "      <td>0</td>\n",
       "      <td>0</td>\n",
       "      <td>0</td>\n",
       "      <td>0</td>\n",
       "      <td>0</td>\n",
       "      <td>...</td>\n",
       "      <td>0</td>\n",
       "      <td>0</td>\n",
       "      <td>0</td>\n",
       "      <td>0</td>\n",
       "      <td>0</td>\n",
       "      <td>0</td>\n",
       "      <td>0</td>\n",
       "      <td>0</td>\n",
       "      <td>0</td>\n",
       "      <td>0</td>\n",
       "    </tr>\n",
       "    <tr>\n",
       "      <th>7</th>\n",
       "      <td>0</td>\n",
       "      <td>12000.0</td>\n",
       "      <td>20.591690</td>\n",
       "      <td>5.426285</td>\n",
       "      <td>0.0000</td>\n",
       "      <td>0</td>\n",
       "      <td>0</td>\n",
       "      <td>0</td>\n",
       "      <td>0</td>\n",
       "      <td>0</td>\n",
       "      <td>...</td>\n",
       "      <td>0</td>\n",
       "      <td>0</td>\n",
       "      <td>0</td>\n",
       "      <td>0</td>\n",
       "      <td>0</td>\n",
       "      <td>0</td>\n",
       "      <td>0</td>\n",
       "      <td>0</td>\n",
       "      <td>0</td>\n",
       "      <td>0</td>\n",
       "    </tr>\n",
       "    <tr>\n",
       "      <th>9</th>\n",
       "      <td>0</td>\n",
       "      <td>2000.0</td>\n",
       "      <td>34.446285</td>\n",
       "      <td>55.619803</td>\n",
       "      <td>0.1737</td>\n",
       "      <td>0</td>\n",
       "      <td>0</td>\n",
       "      <td>0</td>\n",
       "      <td>0</td>\n",
       "      <td>0</td>\n",
       "      <td>...</td>\n",
       "      <td>0</td>\n",
       "      <td>0</td>\n",
       "      <td>0</td>\n",
       "      <td>0</td>\n",
       "      <td>0</td>\n",
       "      <td>0</td>\n",
       "      <td>0</td>\n",
       "      <td>0</td>\n",
       "      <td>0</td>\n",
       "      <td>0</td>\n",
       "    </tr>\n",
       "    <tr>\n",
       "      <th>10</th>\n",
       "      <td>0</td>\n",
       "      <td>3000.0</td>\n",
       "      <td>21.000000</td>\n",
       "      <td>51.938426</td>\n",
       "      <td>0.0000</td>\n",
       "      <td>0</td>\n",
       "      <td>0</td>\n",
       "      <td>0</td>\n",
       "      <td>0</td>\n",
       "      <td>0</td>\n",
       "      <td>...</td>\n",
       "      <td>0</td>\n",
       "      <td>0</td>\n",
       "      <td>0</td>\n",
       "      <td>0</td>\n",
       "      <td>0</td>\n",
       "      <td>0</td>\n",
       "      <td>0</td>\n",
       "      <td>0</td>\n",
       "      <td>0</td>\n",
       "      <td>0</td>\n",
       "    </tr>\n",
       "  </tbody>\n",
       "</table>\n",
       "<p>5 rows × 149 columns</p>\n",
       "</div>"
      ],
      "text/plain": [
       "    disable_communication     goal  launch_to_deadline  create_to_launch  \\\n",
       "1                       0   3500.0           20.537882         18.844549   \n",
       "6                       0    800.0           18.000000          6.558206   \n",
       "7                       0  12000.0           20.591690          5.426285   \n",
       "9                       0   2000.0           34.446285         55.619803   \n",
       "10                      0   3000.0           21.000000         51.938426   \n",
       "\n",
       "      data  category_3D Printing  category_Academic  category_Accessories  \\\n",
       "1   0.6996                     0                  0                     0   \n",
       "6   0.9030                     0                  0                     0   \n",
       "7   0.0000                     0                  0                     0   \n",
       "9   0.1737                     0                  0                     0   \n",
       "10  0.0000                     0                  0                     0   \n",
       "\n",
       "    category_Action  category_Animals       ...        category_Wearables  \\\n",
       "1                 0                 0       ...                         0   \n",
       "6                 0                 0       ...                         0   \n",
       "7                 0                 0       ...                         0   \n",
       "9                 0                 0       ...                         0   \n",
       "10                0                 0       ...                         0   \n",
       "\n",
       "    category_Weaving  category_Web  category_Webcomics  category_Webseries  \\\n",
       "1                  0             0                   0                   0   \n",
       "6                  0             0                   0                   0   \n",
       "7                  0             0                   0                   0   \n",
       "9                  0             0                   0                   0   \n",
       "10                 0             0                   0                   0   \n",
       "\n",
       "    category_Woodworking  category_Workshops  category_World Music  \\\n",
       "1                      0                   0                     0   \n",
       "6                      0                   0                     0   \n",
       "7                      0                   0                     0   \n",
       "9                      0                   0                     0   \n",
       "10                     0                   0                     0   \n",
       "\n",
       "    category_Young Adult  category_Zines  \n",
       "1                      0               0  \n",
       "6                      0               0  \n",
       "7                      0               0  \n",
       "9                      0               0  \n",
       "10                     0               0  \n",
       "\n",
       "[5 rows x 149 columns]"
      ]
     },
     "execution_count": 178,
     "metadata": {},
     "output_type": "execute_result"
    }
   ],
   "source": [
    "sub_train.head()"
   ]
  },
  {
   "cell_type": "code",
   "execution_count": 179,
   "metadata": {
    "collapsed": true
   },
   "outputs": [],
   "source": [
    "#Test train split\n",
    "\n",
    "from sklearn.model_selection import train_test_split #Split data into test and train\n",
    "X_train, X_test, Y_train, Y_test= train_test_split(sub_train, y, test_size=0.3, random_state=5)\n",
    "\n"
   ]
  },
  {
   "cell_type": "code",
   "execution_count": 181,
   "metadata": {
    "collapsed": true
   },
   "outputs": [],
   "source": [
    "# Y_pred = log.predict(X_test)"
   ]
  },
  {
   "cell_type": "code",
   "execution_count": 209,
   "metadata": {},
   "outputs": [
    {
     "name": "stderr",
     "output_type": "stream",
     "text": [
      "C:\\Program Files\\Anaconda3\\lib\\site-packages\\sklearn\\grid_search.py:42: DeprecationWarning: This module was deprecated in version 0.18 in favor of the model_selection module into which all the refactored classes and functions are moved. This module will be removed in 0.20.\n",
      "  DeprecationWarning)\n"
     ]
    }
   ],
   "source": [
    "#Import libraries:\n",
    "\n",
    "from sklearn.ensemble import GradientBoostingClassifier \n",
    "from sklearn import cross_validation, metrics   \n",
    "from sklearn.grid_search import GridSearchCV   \n",
    "\n",
    "import matplotlib.pylab as plt\n",
    "%matplotlib inline\n"
   ]
  },
  {
   "cell_type": "code",
   "execution_count": 247,
   "metadata": {
    "collapsed": true
   },
   "outputs": [],
   "source": [
    "# from https://www.analyticsvidhya.com/blog/2016/02/complete-guide-parameter-tuning-gradient-boosting-gbm-python/\n",
    "def modelfit(alg, dtrain, predictors, performCV=True, printFeatureImportance=True, cv_folds=5):\n",
    "    #Fit the algorithm on the data\n",
    "    alg.fit(dtrain[predictors], Y_train)\n",
    "        \n",
    "    #Predict training set:\n",
    "    dtrain_predictions = alg.predict(dtrain[predictors])\n",
    "    dtrain_predprob = alg.predict_proba(dtrain[predictors])[:,1]\n",
    "    \n",
    "    #Perform cross-validation:\n",
    "    if performCV:\n",
    "        cv_score = cross_validation.cross_val_score(alg, dtrain[predictors], Y_train, cv=cv_folds, scoring='roc_auc')\n",
    "    \n",
    "    #Print model report:\n",
    "    print (\"\\nModel Report\")\n",
    "    print (\"Accuracy : %.4g\" % metrics.accuracy_score(Y_train.values, dtrain_predictions))\n",
    "    print (\"AUC Score (Train): %f\" % metrics.roc_auc_score(Y_train, dtrain_predprob))\n",
    "    \n",
    "    if performCV:\n",
    "        print (\"CV Score : Mean - %.7g | Std - %.7g | Min - %.7g | Max - %.7g\" % (np.mean(cv_score),np.std(cv_score),np.min(cv_score),np.max(cv_score)))\n",
    "        \n",
    "    #Print Feature Importance:\n",
    "    if printFeatureImportance:\n",
    "        feat_imp = pd.Series(alg.feature_importances_, predictors).sort_values(ascending=False)\n",
    "        feat_imp[1:20].plot(kind='bar', title='Feature Importances')\n",
    "        plt.ylabel('Feature Importance Score')"
   ]
  },
  {
   "cell_type": "code",
   "execution_count": 215,
   "metadata": {},
   "outputs": [
    {
     "name": "stdout",
     "output_type": "stream",
     "text": [
      "\n",
      "Model Report\n",
      "Accuracy : 0.7318\n",
      "AUC Score (Train): 0.818947\n",
      "CV Score : Mean - 0.8158271 | Std - 0.004000501 | Min - 0.8095052 | Max - 0.8220275\n"
     ]
    },
    {
     "data": {
      "image/png": "[encoded data removed]",
      "text/plain": [
       "<matplotlib.figure.Figure at 0x1a71272db00>"
      ]
     },
     "metadata": {},
     "output_type": "display_data"
    }
   ],
   "source": [
    "#Choose all predictors except target & IDcols\n",
    "predictors = [x for x in X_train.columns]\n",
    "gbm0 = GradientBoostingClassifier(random_state=10)\n",
    "modelfit(gbm0, X_train, predictors)"
   ]
  },
  {
   "cell_type": "markdown",
   "metadata": {},
   "source": [
    "### Baseline boosting model has an accuracy of 73% I use grid search to find best parameters for the model and improve the accuracy"
   ]
  },
  {
   "cell_type": "code",
   "execution_count": 217,
   "metadata": {},
   "outputs": [
    {
     "data": {
      "text/plain": [
       "1011.19"
      ]
     },
     "execution_count": 217,
     "metadata": {},
     "output_type": "execute_result"
    }
   ],
   "source": [
    "#Setting min_samples_split to 0.5 to 1% of total data\n",
    "len(X_train)/100"
   ]
  },
  {
   "cell_type": "code",
   "execution_count": 230,
   "metadata": {},
   "outputs": [
    {
     "data": {
      "text/plain": [
       "GridSearchCV(cv=5, error_score='raise',\n",
       "       estimator=GradientBoostingClassifier(criterion='friedman_mse', init=None,\n",
       "              learning_rate=0.5, loss='deviance', max_depth=5,\n",
       "              max_features='sqrt', max_leaf_nodes=None,\n",
       "              min_impurity_decrease=0.0, min_impurity_split=None,\n",
       "              min_samples_leaf=50, min_samples_split=500,\n",
       "              min_weight_fraction_leaf=0.0, n_estimators=100,\n",
       "              presort='auto', random_state=10, subsample=0.8, verbose=0,\n",
       "              warm_start=False),\n",
       "       fit_params={}, iid=False, n_jobs=4,\n",
       "       param_grid={'n_estimators': [150, 160, 170, 180, 190, 200, 210, 220, 230, 240, 250, 260, 270]},\n",
       "       pre_dispatch='2*n_jobs', refit=True, scoring='roc_auc', verbose=0)"
      ]
     },
     "execution_count": 230,
     "metadata": {},
     "output_type": "execute_result"
    }
   ],
   "source": [
    "#Search 1\n",
    "predictors = [x for x in X_train.columns]\n",
    "param_test1 = {'n_estimators':list(range(150,280,10))}\n",
    "gsearch1 = GridSearchCV(estimator = GradientBoostingClassifier(learning_rate=0.5, min_samples_split=500,min_samples_leaf=50,max_depth=5,max_features='sqrt',subsample=0.8,random_state=10), param_grid = param_test1, scoring='roc_auc',n_jobs=4,iid=False, cv=5)\n",
    "gsearch1.fit(X_train[predictors],Y_train)"
   ]
  },
  {
   "cell_type": "code",
   "execution_count": 231,
   "metadata": {},
   "outputs": [
    {
     "data": {
      "text/plain": [
       "([mean: 0.82926, std: 0.00402, params: {'n_estimators': 150},\n",
       "  mean: 0.82908, std: 0.00394, params: {'n_estimators': 160},\n",
       "  mean: 0.82923, std: 0.00387, params: {'n_estimators': 170},\n",
       "  mean: 0.82931, std: 0.00398, params: {'n_estimators': 180},\n",
       "  mean: 0.82938, std: 0.00394, params: {'n_estimators': 190},\n",
       "  mean: 0.82940, std: 0.00401, params: {'n_estimators': 200},\n",
       "  mean: 0.82924, std: 0.00402, params: {'n_estimators': 210},\n",
       "  mean: 0.82916, std: 0.00405, params: {'n_estimators': 220},\n",
       "  mean: 0.82922, std: 0.00393, params: {'n_estimators': 230},\n",
       "  mean: 0.82908, std: 0.00387, params: {'n_estimators': 240},\n",
       "  mean: 0.82917, std: 0.00385, params: {'n_estimators': 250},\n",
       "  mean: 0.82918, std: 0.00380, params: {'n_estimators': 260},\n",
       "  mean: 0.82914, std: 0.00383, params: {'n_estimators': 270}],\n",
       " {'n_estimators': 200},\n",
       " 0.829401588308482)"
      ]
     },
     "execution_count": 231,
     "metadata": {},
     "output_type": "execute_result"
    }
   ],
   "source": [
    "gsearch1.grid_scores_, gsearch1.best_params_, gsearch1.best_score_"
   ]
  },
  {
   "cell_type": "code",
   "execution_count": 235,
   "metadata": {},
   "outputs": [
    {
     "data": {
      "text/plain": [
       "GridSearchCV(cv=5, error_score='raise',\n",
       "       estimator=GradientBoostingClassifier(criterion='friedman_mse', init=None,\n",
       "              learning_rate=0.5, loss='deviance', max_depth=3,\n",
       "              max_features='sqrt', max_leaf_nodes=None,\n",
       "              min_impurity_decrease=0.0, min_impurity_split=None,\n",
       "              min_samples_leaf=1, min_samples_split=2,\n",
       "              min_weight_fraction_leaf=0.0, n_estimators=200,\n",
       "              presort='auto', random_state=10, subsample=0.8, verbose=0,\n",
       "              warm_start=False),\n",
       "       fit_params={}, iid=False, n_jobs=4,\n",
       "       param_grid={'max_depth': [2, 4], 'min_samples_split': [700, 900, 1100]},\n",
       "       pre_dispatch='2*n_jobs', refit=True, scoring='roc_auc', verbose=0)"
      ]
     },
     "execution_count": 235,
     "metadata": {},
     "output_type": "execute_result"
    },
    {
     "data": {
      "text/plain": [
       "([mean: 0.82708, std: 0.00428, params: {'max_depth': 2, 'min_samples_split': 700},\n",
       "  mean: 0.82718, std: 0.00426, params: {'max_depth': 2, 'min_samples_split': 900},\n",
       "  mean: 0.82713, std: 0.00410, params: {'max_depth': 2, 'min_samples_split': 1100},\n",
       "  mean: 0.82874, std: 0.00397, params: {'max_depth': 4, 'min_samples_split': 700},\n",
       "  mean: 0.82965, std: 0.00404, params: {'max_depth': 4, 'min_samples_split': 900},\n",
       "  mean: 0.82900, std: 0.00418, params: {'max_depth': 4, 'min_samples_split': 1100}],\n",
       " {'max_depth': 4, 'min_samples_split': 900},\n",
       " 0.8296502765533702)"
      ]
     },
     "execution_count": 235,
     "metadata": {},
     "output_type": "execute_result"
    }
   ],
   "source": [
    "#Search 2\n",
    "param_test2 = {'max_depth':list(range(2,6,2)), 'min_samples_split':list(range(700,1300,200))}\n",
    "gsearch2 = GridSearchCV(estimator = GradientBoostingClassifier(learning_rate=0.5, n_estimators=200, max_features='sqrt', subsample=0.8, random_state=10), \n",
    "param_grid = param_test2, scoring='roc_auc',n_jobs=4,iid=False, cv=5)\n",
    "gsearch2.fit(X_train[predictors],Y_train)\n",
    "gsearch2.grid_scores_, gsearch2.best_params_, gsearch2.best_score_"
   ]
  },
  {
   "cell_type": "code",
   "execution_count": 236,
   "metadata": {},
   "outputs": [
    {
     "data": {
      "text/plain": [
       "GridSearchCV(cv=5, error_score='raise',\n",
       "       estimator=GradientBoostingClassifier(criterion='friedman_mse', init=None,\n",
       "              learning_rate=0.5, loss='deviance', max_depth=4,\n",
       "              max_features='sqrt', max_leaf_nodes=None,\n",
       "              min_impurity_decrease=0.0, min_impurity_split=None,\n",
       "              min_samples_leaf=1, min_samples_split=900,\n",
       "              min_weight_fraction_leaf=0.0, n_estimators=200,\n",
       "              presort='auto', random_state=10, subsample=0.8, verbose=0,\n",
       "              warm_start=False),\n",
       "       fit_params={}, iid=False, n_jobs=4,\n",
       "       param_grid={'min_samples_leaf': [30, 40, 50, 60, 70]},\n",
       "       pre_dispatch='2*n_jobs', refit=True, scoring='roc_auc', verbose=0)"
      ]
     },
     "execution_count": 236,
     "metadata": {},
     "output_type": "execute_result"
    },
    {
     "data": {
      "text/plain": [
       "([mean: 0.82924, std: 0.00397, params: {'min_samples_leaf': 30},\n",
       "  mean: 0.82937, std: 0.00390, params: {'min_samples_leaf': 40},\n",
       "  mean: 0.82928, std: 0.00366, params: {'min_samples_leaf': 50},\n",
       "  mean: 0.82892, std: 0.00392, params: {'min_samples_leaf': 60},\n",
       "  mean: 0.82890, std: 0.00342, params: {'min_samples_leaf': 70}],\n",
       " {'min_samples_leaf': 40},\n",
       " 0.8293668560448726)"
      ]
     },
     "execution_count": 236,
     "metadata": {},
     "output_type": "execute_result"
    }
   ],
   "source": [
    "#Search 3\n",
    "param_test3 = { 'min_samples_leaf':list(range(30,71,10))}\n",
    "gsearch3 = GridSearchCV(estimator = GradientBoostingClassifier(learning_rate=0.5,min_samples_split=900, n_estimators=200,max_depth=4,max_features='sqrt', subsample=0.8, random_state=10), \n",
    "param_grid = param_test3, scoring='roc_auc',n_jobs=4,iid=False, cv=5)\n",
    "gsearch3.fit(X_train[predictors],Y_train)\n",
    "gsearch3.grid_scores_, gsearch3.best_params_, gsearch3.best_score_"
   ]
  },
  {
   "cell_type": "code",
   "execution_count": 237,
   "metadata": {},
   "outputs": [
    {
     "name": "stdout",
     "output_type": "stream",
     "text": [
      "\n",
      "Model Report\n",
      "Accuracy : 0.7512\n",
      "AUC Score (Train): 0.838573\n",
      "CV Score : Mean - 0.8293669 | Std - 0.003897763 | Min - 0.8235839 | Max - 0.8340685\n"
     ]
    },
    {
     "data": {
      "image/png": "[encoded data removed]",
      "text/plain": [
       "<matplotlib.figure.Figure at 0x1a61b721dd8>"
      ]
     },
     "metadata": {},
     "output_type": "display_data"
    }
   ],
   "source": [
    "modelfit(gsearch3.best_estimator_,  X_train, predictors)"
   ]
  },
  {
   "cell_type": "code",
   "execution_count": 240,
   "metadata": {},
   "outputs": [
    {
     "data": {
      "text/plain": [
       "12.206555615733702"
      ]
     },
     "execution_count": 240,
     "metadata": {},
     "output_type": "execute_result"
    }
   ],
   "source": [
    "np.sqrt(len(X_train.columns)) # number of features"
   ]
  },
  {
   "cell_type": "code",
   "execution_count": 242,
   "metadata": {},
   "outputs": [
    {
     "data": {
      "text/plain": [
       "GridSearchCV(cv=5, error_score='raise',\n",
       "       estimator=GradientBoostingClassifier(criterion='friedman_mse', init=None,\n",
       "              learning_rate=0.5, loss='deviance', max_depth=4,\n",
       "              max_features=None, max_leaf_nodes=None,\n",
       "              min_impurity_decrease=0.0, min_impurity_split=None,\n",
       "              min_samples_leaf=40, min_samples_split=900,\n",
       "              min_weight_fraction_leaf=0.0, n_estimators=200,\n",
       "              presort='auto', random_state=10, subsample=0.8, verbose=0,\n",
       "              warm_start=False),\n",
       "       fit_params={}, iid=False, n_jobs=4,\n",
       "       param_grid={'max_features': [10, 12, 14, 16, 18, 20, 22, 24]},\n",
       "       pre_dispatch='2*n_jobs', refit=True, scoring='roc_auc', verbose=0)"
      ]
     },
     "execution_count": 242,
     "metadata": {},
     "output_type": "execute_result"
    },
    {
     "data": {
      "text/plain": [
       "([mean: 0.82928, std: 0.00388, params: {'max_features': 10},\n",
       "  mean: 0.82937, std: 0.00390, params: {'max_features': 12},\n",
       "  mean: 0.83041, std: 0.00421, params: {'max_features': 14},\n",
       "  mean: 0.83018, std: 0.00430, params: {'max_features': 16},\n",
       "  mean: 0.82993, std: 0.00391, params: {'max_features': 18},\n",
       "  mean: 0.82966, std: 0.00403, params: {'max_features': 20},\n",
       "  mean: 0.83000, std: 0.00413, params: {'max_features': 22},\n",
       "  mean: 0.82979, std: 0.00388, params: {'max_features': 24}],\n",
       " {'max_features': 14},\n",
       " 0.8304113328974079)"
      ]
     },
     "execution_count": 242,
     "metadata": {},
     "output_type": "execute_result"
    }
   ],
   "source": [
    "#Search 4\n",
    "param_test4 = {'max_features':list(range(10,26,2))}\n",
    "gsearch4 = GridSearchCV(estimator = GradientBoostingClassifier(learning_rate=0.5, n_estimators=200,max_depth=4, min_samples_split=900, min_samples_leaf=40, subsample=0.8, random_state=10),\n",
    "param_grid = param_test4, scoring='roc_auc',n_jobs=4,iid=False, cv=5)\n",
    "gsearch4.fit(X_train[predictors],Y_train)\n",
    "gsearch4.grid_scores_, gsearch4.best_params_, gsearch4.best_score_"
   ]
  },
  {
   "cell_type": "code",
   "execution_count": 243,
   "metadata": {},
   "outputs": [
    {
     "data": {
      "text/plain": [
       "GridSearchCV(cv=5, error_score='raise',\n",
       "       estimator=GradientBoostingClassifier(criterion='friedman_mse', init=None,\n",
       "              learning_rate=0.5, loss='deviance', max_depth=4,\n",
       "              max_features=14, max_leaf_nodes=None,\n",
       "              min_impurity_decrease=0.0, min_impurity_split=None,\n",
       "              min_samples_leaf=40, min_samples_split=900,\n",
       "              min_weight_fraction_leaf=0.0, n_estimators=200,\n",
       "              presort='auto', random_state=10, subsample=1.0, verbose=0,\n",
       "              warm_start=False),\n",
       "       fit_params={}, iid=False, n_jobs=4,\n",
       "       param_grid={'subsample': [0.6, 0.7, 0.75, 0.8, 0.85, 0.9]},\n",
       "       pre_dispatch='2*n_jobs', refit=True, scoring='roc_auc', verbose=0)"
      ]
     },
     "execution_count": 243,
     "metadata": {},
     "output_type": "execute_result"
    },
    {
     "data": {
      "text/plain": [
       "([mean: 0.82893, std: 0.00405, params: {'subsample': 0.6},\n",
       "  mean: 0.82959, std: 0.00388, params: {'subsample': 0.7},\n",
       "  mean: 0.82982, std: 0.00384, params: {'subsample': 0.75},\n",
       "  mean: 0.83041, std: 0.00421, params: {'subsample': 0.8},\n",
       "  mean: 0.82999, std: 0.00418, params: {'subsample': 0.85},\n",
       "  mean: 0.83030, std: 0.00367, params: {'subsample': 0.9}],\n",
       " {'subsample': 0.8},\n",
       " 0.8304113328974079)"
      ]
     },
     "execution_count": 243,
     "metadata": {},
     "output_type": "execute_result"
    }
   ],
   "source": [
    "#Search 5\n",
    "param_test5 = {'subsample':[0.6,0.7,0.75,0.8,0.85,0.9]}\n",
    "gsearch5 = GridSearchCV(estimator = GradientBoostingClassifier(learning_rate=0.5, n_estimators=200,max_depth=4,min_samples_split=900, min_samples_leaf=40, random_state=10,max_features=14),\n",
    "param_grid = param_test5, scoring='roc_auc',n_jobs=4,iid=False, cv=5)\n",
    "gsearch5.fit(X_train[predictors],Y_train)\n",
    "gsearch5.grid_scores_, gsearch5.best_params_, gsearch5.best_score_"
   ]
  },
  {
   "cell_type": "code",
   "execution_count": 248,
   "metadata": {},
   "outputs": [
    {
     "name": "stdout",
     "output_type": "stream",
     "text": [
      "\n",
      "Model Report\n",
      "Accuracy : 0.7532\n",
      "AUC Score (Train): 0.841758\n",
      "CV Score : Mean - 0.8318832 | Std - 0.004031261 | Min - 0.8260623 | Max - 0.8372739\n"
     ]
    },
    {
     "data": {
      "image/png": "[encoded data removed]",
      "text/plain": [
       "<matplotlib.figure.Figure at 0x1a6883bbef0>"
      ]
     },
     "metadata": {},
     "output_type": "display_data"
    }
   ],
   "source": [
    "#Tuned model\n",
    "gbm_tuned_4 = GradientBoostingClassifier(learning_rate=0.1, n_estimators=1000,max_depth=4, min_samples_split=900, min_samples_leaf=40, subsample=0.85, random_state=10, max_features=14,\n",
    "warm_start=True)\n",
    "modelfit(gbm_tuned_4, X_train, predictors)"
   ]
  },
  {
   "cell_type": "markdown",
   "metadata": {},
   "source": [
    "### Tuning the model increases accuracy by 2%.\n",
    "\n",
    "### Feature importance of the final model is different from the baseline model, goal and sentiment of the text move up in importance. Also, category variables that are important in the model have closer scores."
   ]
  },
  {
   "cell_type": "code",
   "execution_count": 249,
   "metadata": {},
   "outputs": [
    {
     "data": {
      "text/plain": [
       "75.316211592282357"
      ]
     },
     "execution_count": 249,
     "metadata": {},
     "output_type": "execute_result"
    }
   ],
   "source": [
    "Y_pred_boost = gbm_tuned_4.predict(X_test)\n",
    "score_boost_train=gbm_tuned_4.score(X_train, Y_train)*100\n",
    "score_boost_train"
   ]
  },
  {
   "cell_type": "markdown",
   "metadata": {},
   "source": [
    "### Model performs equally well on unseen test data."
   ]
  },
  {
   "cell_type": "code",
   "execution_count": 250,
   "metadata": {},
   "outputs": [
    {
     "data": {
      "text/plain": [
       "74.380451336009969"
      ]
     },
     "execution_count": 250,
     "metadata": {},
     "output_type": "execute_result"
    }
   ],
   "source": [
    "score_random_boost=gbm_tuned_4.score(X_test, Y_test)*100\n",
    "score_random_boost"
   ]
  },
  {
   "cell_type": "code",
   "execution_count": 252,
   "metadata": {
    "collapsed": true
   },
   "outputs": [],
   "source": [
    "Y_pred_boost=gbm_tuned_4.predict (X_test)"
   ]
  },
  {
   "cell_type": "markdown",
   "metadata": {},
   "source": [
    "### Precision, recall and f1-score"
   ]
  },
  {
   "cell_type": "code",
   "execution_count": 254,
   "metadata": {},
   "outputs": [
    {
     "name": "stdout",
     "output_type": "stream",
     "text": [
      "             precision    recall  f1-score   support\n",
      "\n",
      "          0       0.73      0.81      0.77     22617\n",
      "          1       0.76      0.68      0.72     20721\n",
      "\n",
      "avg / total       0.75      0.74      0.74     43338\n",
      "\n"
     ]
    }
   ],
   "source": [
    "from sklearn import metrics\n",
    "print(metrics.classification_report( Y_test, Y_pred_boost))"
   ]
  },
  {
   "cell_type": "markdown",
   "metadata": {},
   "source": [
    "## Summary:\n",
    "\n",
    "### Data exploration\n",
    "\n",
    "1. Successful projects have smaller financial goals. \n",
    "\n",
    "2. Projects under spotlight have a 100% chance of success.\n",
    "\n",
    "3. If the project is a staff pick, chance of success is doubled.\n",
    "\n",
    "4. Many more successful projects set deadline to ~30 days after launch than failed projects, 30 day projects may produce a sense of urgency while giving enough time to find backers.\n",
    "\n",
    "5. Categories with least success (<15%): Apps, Mobile Games, Web, Food Trucks\n",
    "\n",
    "6. Categories with most success (100%): Shorts, Tabletop Games, Product Design, Documentary\n",
    "\n",
    "### Machine learning:\n",
    "\n",
    "1. Boosting model predicts success of a kickstarter project from the financial goal, category, time from creating the project to launching it, and the deadline set after launch, with 75% accuracy;\n",
    "2. Top three features: (i) Financial goal; (ii) time from creation to launch; and (iii) sentiment of project name and blurb."
   ]
  },
  {
   "cell_type": "code",
   "execution_count": null,
   "metadata": {
    "collapsed": true
   },
   "outputs": [],
   "source": []
  }
 ],
 "metadata": {
  "kernelspec": {
   "display_name": "Python [conda root]",
   "language": "python",
   "name": "conda-root-py"
  },
  "language_info": {
   "codemirror_mode": {
    "name": "ipython",
    "version": 3
   },
   "file_extension": ".py",
   "mimetype": "text/x-python",
   "name": "python",
   "nbconvert_exporter": "python",
   "pygments_lexer": "ipython3",
   "version": "3.6.1"
  }
 },
 "nbformat": 4,
 "nbformat_minor": 2
}
