{
 "cells": [
  {
   "cell_type": "code",
   "execution_count": 1,
   "metadata": {
    "collapsed": true
   },
   "outputs": [],
   "source": [
    "from IPython.core.interactiveshell import InteractiveShell\n",
    "InteractiveShell.ast_node_interactivity = \"all\"\n",
    "\n",
    "\n",
    "import pandas as pd\n",
    "import numpy as np\n",
    "import matplotlib.pyplot as plt\n",
    "import matplotlib\n",
    "import seaborn as sns\n",
    "import datetime\n",
    "%matplotlib inline\n",
    "\n",
    "#For converting different currencies to USD\n",
    "from forex_python.converter import CurrencyRates\n",
    "\n",
    "#Counting the number of occurences of words\n",
    "from sklearn.feature_extraction.text import CountVectorizer\n",
    "\n",
    "#lexicon and rule-based sentiment analysis tool \n",
    "from vaderSentiment.vaderSentiment import SentimentIntensityAnalyzer\n",
    "\n",
    "#Preprocessing\n",
    "from sklearn import preprocessing\n",
    "\n",
    "# machine learning\n",
    "from sklearn.linear_model import LogisticRegression\n",
    "from sklearn.svm import SVC, LinearSVC\n",
    "from sklearn.ensemble import RandomForestClassifier\n",
    "from sklearn.neighbors import KNeighborsClassifier\n",
    "from sklearn.naive_bayes import GaussianNB\n",
    "from sklearn.linear_model import Perceptron\n",
    "from sklearn.linear_model import SGDClassifier\n",
    "from sklearn.tree import DecisionTreeClassifier"
   ]
  },
  {
   "cell_type": "code",
   "execution_count": 2,
   "metadata": {
    "collapsed": true
   },
   "outputs": [],
   "source": [
    "import glob\n",
    "import os"
   ]
  },
  {
   "cell_type": "markdown",
   "metadata": {},
   "source": [
    "Data from https://webrobots.io/kickstarter-datasets/"
   ]
  },
  {
   "cell_type": "code",
   "execution_count": 3,
   "metadata": {
    "collapsed": true
   },
   "outputs": [],
   "source": [
    "path =r'D:\\Github Repos\\Projects\\Kickstarter_project\\data\\kickstarter\\KS\\Kickstarter_2017-01-15T22_21_04_985Z' \n",
    "all_files = glob.glob(os.path.join(path, \"*.csv\"))     \n",
    "\n",
    "df_from_each_file = (pd.read_csv(f) for f in all_files)\n",
    "concatenated_df   = pd.concat(df_from_each_file, ignore_index=True)\n"
   ]
  },
  {
   "cell_type": "code",
   "execution_count": 4,
   "metadata": {},
   "outputs": [
    {
     "data": {
      "text/plain": [
       "172892"
      ]
     },
     "execution_count": 4,
     "metadata": {},
     "output_type": "execute_result"
    }
   ],
   "source": [
    "len(concatenated_df)\n",
    "concatenated_df.to_csv('data/kickstarter/KS/Kickstarter_2017-01.csv', sep=',')"
   ]
  },
  {
   "cell_type": "code",
   "execution_count": 3,
   "metadata": {
    "collapsed": true
   },
   "outputs": [],
   "source": [
    "path =r'D:\\Github Repos\\Projects\\Kickstarter_project\\data\\kickstarter\\KS\\Kickstarter_2017-02-15T22_22_48_377Z' \n",
    "all_files = glob.glob(os.path.join(path, \"*.csv\"))     \n",
    "\n",
    "df_from_each_file = (pd.read_csv(f) for f in all_files)\n",
    "concatenated_df   = pd.concat(df_from_each_file, ignore_index=True)\n"
   ]
  },
  {
   "cell_type": "code",
   "execution_count": 4,
   "metadata": {},
   "outputs": [
    {
     "data": {
      "text/plain": [
       "175085"
      ]
     },
     "execution_count": 4,
     "metadata": {},
     "output_type": "execute_result"
    }
   ],
   "source": [
    "len(concatenated_df)\n",
    "concatenated_df.to_csv('data/kickstarter/KS/Kickstarter_2017-02.csv', sep=',')"
   ]
  },
  {
   "cell_type": "code",
   "execution_count": 5,
   "metadata": {
    "collapsed": true
   },
   "outputs": [],
   "source": [
    "path =r'D:\\Github Repos\\Projects\\Kickstarter_project\\data\\kickstarter\\KS\\Kickstarter_2017-03-15T22_20_55_874Z' \n",
    "all_files = glob.glob(os.path.join(path, \"*.csv\"))     \n",
    "\n",
    "df_from_each_file = (pd.read_csv(f) for f in all_files)\n",
    "concatenated_df   = pd.concat(df_from_each_file, ignore_index=True)\n"
   ]
  },
  {
   "cell_type": "code",
   "execution_count": 6,
   "metadata": {},
   "outputs": [
    {
     "data": {
      "text/plain": [
       "177140"
      ]
     },
     "execution_count": 6,
     "metadata": {},
     "output_type": "execute_result"
    }
   ],
   "source": [
    "len(concatenated_df)\n",
    "concatenated_df.to_csv('data/kickstarter/KS/Kickstarter_2017-03.csv', sep=',')"
   ]
  },
  {
   "cell_type": "code",
   "execution_count": 7,
   "metadata": {
    "collapsed": true
   },
   "outputs": [],
   "source": [
    "path =r'D:\\Github Repos\\Projects\\Kickstarter_project\\data\\kickstarter\\KS\\Kickstarter_2017-04-15T22_21_18_122Z' \n",
    "all_files = glob.glob(os.path.join(path, \"*.csv\"))     \n",
    "\n",
    "df_from_each_file = (pd.read_csv(f) for f in all_files)\n",
    "concatenated_df   = pd.concat(df_from_each_file, ignore_index=True)\n"
   ]
  },
  {
   "cell_type": "code",
   "execution_count": 8,
   "metadata": {},
   "outputs": [
    {
     "data": {
      "text/plain": [
       "179311"
      ]
     },
     "execution_count": 8,
     "metadata": {},
     "output_type": "execute_result"
    }
   ],
   "source": [
    "len(concatenated_df)\n",
    "concatenated_df.to_csv('data/kickstarter/KS/Kickstarter_2017-04.csv', sep=',')"
   ]
  },
  {
   "cell_type": "code",
   "execution_count": 9,
   "metadata": {
    "collapsed": true
   },
   "outputs": [],
   "source": [
    "path =r'D:\\Github Repos\\Projects\\Kickstarter_project\\data\\kickstarter\\KS\\Kickstarter_2017-05-15T22_21_11_300Z' \n",
    "all_files = glob.glob(os.path.join(path, \"*.csv\"))     \n",
    "\n",
    "df_from_each_file = (pd.read_csv(f) for f in all_files)\n",
    "concatenated_df   = pd.concat(df_from_each_file, ignore_index=True)\n"
   ]
  },
  {
   "cell_type": "code",
   "execution_count": 10,
   "metadata": {},
   "outputs": [
    {
     "data": {
      "text/plain": [
       "181288"
      ]
     },
     "execution_count": 10,
     "metadata": {},
     "output_type": "execute_result"
    }
   ],
   "source": [
    "len(concatenated_df)\n",
    "concatenated_df.to_csv('data/kickstarter/KS/Kickstarter_2017-05.csv', sep=',')"
   ]
  },
  {
   "cell_type": "code",
   "execution_count": 11,
   "metadata": {
    "collapsed": true
   },
   "outputs": [],
   "source": [
    "path =r'D:\\Github Repos\\Projects\\Kickstarter_project\\data\\kickstarter\\KS\\Kickstarter_2017-06-15T22_20_03_059Z' \n",
    "all_files = glob.glob(os.path.join(path, \"*.csv\"))     \n",
    "\n",
    "df_from_each_file = (pd.read_csv(f) for f in all_files)\n",
    "concatenated_df   = pd.concat(df_from_each_file, ignore_index=True)\n"
   ]
  },
  {
   "cell_type": "code",
   "execution_count": 12,
   "metadata": {},
   "outputs": [
    {
     "data": {
      "text/plain": [
       "194818"
      ]
     },
     "execution_count": 12,
     "metadata": {},
     "output_type": "execute_result"
    }
   ],
   "source": [
    "len(concatenated_df)\n",
    "concatenated_df.to_csv('data/kickstarter/KS/Kickstarter_2017-06.csv', sep=',')"
   ]
  },
  {
   "cell_type": "code",
   "execution_count": 13,
   "metadata": {
    "collapsed": true
   },
   "outputs": [],
   "source": [
    "path =r'D:\\Github Repos\\Projects\\Kickstarter_project\\data\\kickstarter\\KS\\Kickstarter_2017-07-15T22_20_48_951Z' \n",
    "all_files = glob.glob(os.path.join(path, \"*.csv\"))     \n",
    "\n",
    "df_from_each_file = (pd.read_csv(f) for f in all_files)\n",
    "concatenated_df   = pd.concat(df_from_each_file, ignore_index=True)\n"
   ]
  },
  {
   "cell_type": "code",
   "execution_count": 14,
   "metadata": {},
   "outputs": [
    {
     "data": {
      "text/plain": [
       "196757"
      ]
     },
     "execution_count": 14,
     "metadata": {},
     "output_type": "execute_result"
    }
   ],
   "source": [
    "len(concatenated_df)\n",
    "concatenated_df.to_csv('data/kickstarter/KS/Kickstarter_2017-07.csv', sep=',')"
   ]
  },
  {
   "cell_type": "code",
   "execution_count": 15,
   "metadata": {
    "collapsed": true
   },
   "outputs": [],
   "source": [
    "path =r'D:\\Github Repos\\Projects\\Kickstarter_project\\data\\kickstarter\\KS\\Kickstarter_2017-08-15T22_20_51_958Z' \n",
    "all_files = glob.glob(os.path.join(path, \"*.csv\"))     \n",
    "\n",
    "df_from_each_file = (pd.read_csv(f) for f in all_files)\n",
    "concatenated_df   = pd.concat(df_from_each_file, ignore_index=True)\n"
   ]
  },
  {
   "cell_type": "code",
   "execution_count": 16,
   "metadata": {},
   "outputs": [
    {
     "data": {
      "text/plain": [
       "169832"
      ]
     },
     "execution_count": 16,
     "metadata": {},
     "output_type": "execute_result"
    }
   ],
   "source": [
    "len(concatenated_df)\n",
    "concatenated_df.to_csv('data/kickstarter/KS/Kickstarter_2017-08.csv', sep=',')"
   ]
  },
  {
   "cell_type": "code",
   "execution_count": 17,
   "metadata": {
    "collapsed": true
   },
   "outputs": [],
   "source": [
    "path =r'D:\\Github Repos\\Projects\\Kickstarter_project\\data\\kickstarter\\KS\\Kickstarter_2017-09-15T22_20_48_432Z' \n",
    "all_files = glob.glob(os.path.join(path, \"*.csv\"))     \n",
    "\n",
    "df_from_each_file = (pd.read_csv(f) for f in all_files)\n",
    "concatenated_df   = pd.concat(df_from_each_file, ignore_index=True)\n"
   ]
  },
  {
   "cell_type": "code",
   "execution_count": 18,
   "metadata": {},
   "outputs": [
    {
     "data": {
      "text/plain": [
       "155966"
      ]
     },
     "execution_count": 18,
     "metadata": {},
     "output_type": "execute_result"
    }
   ],
   "source": [
    "len(concatenated_df)\n",
    "concatenated_df.to_csv('data/kickstarter/KS/Kickstarter_2017-09.csv', sep=',')"
   ]
  },
  {
   "cell_type": "code",
   "execution_count": 19,
   "metadata": {
    "collapsed": true
   },
   "outputs": [],
   "source": [
    "path =r'D:\\Github Repos\\Projects\\Kickstarter_project\\data\\kickstarter\\KS\\Kickstarter_2017-10-15T10_20_38_271Z' \n",
    "all_files = glob.glob(os.path.join(path, \"*.csv\"))     \n",
    "\n",
    "df_from_each_file = (pd.read_csv(f) for f in all_files)\n",
    "concatenated_df   = pd.concat(df_from_each_file, ignore_index=True)\n"
   ]
  },
  {
   "cell_type": "code",
   "execution_count": 20,
   "metadata": {},
   "outputs": [
    {
     "data": {
      "text/plain": [
       "157127"
      ]
     },
     "execution_count": 20,
     "metadata": {},
     "output_type": "execute_result"
    }
   ],
   "source": [
    "len(concatenated_df)\n",
    "concatenated_df.to_csv('data/kickstarter/KS/Kickstarter_2017-10.csv', sep=',')"
   ]
  },
  {
   "cell_type": "code",
   "execution_count": 21,
   "metadata": {},
   "outputs": [
    {
     "name": "stderr",
     "output_type": "stream",
     "text": [
      "C:\\Program Files\\Anaconda3\\lib\\site-packages\\ipykernel\\__main__.py:5: DtypeWarning: Columns (33,34,35,36) have mixed types. Specify dtype option on import or set low_memory=False.\n"
     ]
    }
   ],
   "source": [
    "path =r'D:\\Github Repos\\Projects\\Kickstarter_project\\data\\kickstarter\\KS' \n",
    "all_files = glob.glob(os.path.join(path, \"*.csv\"))     \n",
    "\n",
    "df_from_each_file = (pd.read_csv(f, encoding='latin1', index_col=0) for f in all_files)\n",
    "concatenated_df   = pd.concat(df_from_each_file, ignore_index=True)\n"
   ]
  },
  {
   "cell_type": "code",
   "execution_count": 38,
   "metadata": {},
   "outputs": [
    {
     "data": {
      "text/plain": [
       "1760216"
      ]
     },
     "execution_count": 38,
     "metadata": {},
     "output_type": "execute_result"
    },
    {
     "data": {
      "text/html": [
       "<div>\n",
       "<style>\n",
       "    .dataframe thead tr:only-child th {\n",
       "        text-align: right;\n",
       "    }\n",
       "\n",
       "    .dataframe thead th {\n",
       "        text-align: left;\n",
       "    }\n",
       "\n",
       "    .dataframe tbody tr th {\n",
       "        vertical-align: top;\n",
       "    }\n",
       "</style>\n",
       "<table border=\"1\" class=\"dataframe\">\n",
       "  <thead>\n",
       "    <tr style=\"text-align: right;\">\n",
       "      <th></th>\n",
       "      <th>backers_count</th>\n",
       "      <th>blurb</th>\n",
       "      <th>category</th>\n",
       "      <th>converted_pledged_amount</th>\n",
       "      <th>country</th>\n",
       "      <th>created_at</th>\n",
       "      <th>creator</th>\n",
       "      <th>currency</th>\n",
       "      <th>currency_symbol</th>\n",
       "      <th>currency_trailing_code</th>\n",
       "      <th>...</th>\n",
       "      <th>slug</th>\n",
       "      <th>source_url</th>\n",
       "      <th>spotlight</th>\n",
       "      <th>staff_pick</th>\n",
       "      <th>state</th>\n",
       "      <th>state_changed_at</th>\n",
       "      <th>static_usd_rate</th>\n",
       "      <th>urls</th>\n",
       "      <th>usd_pledged</th>\n",
       "      <th>usd_type</th>\n",
       "    </tr>\n",
       "  </thead>\n",
       "  <tbody>\n",
       "    <tr>\n",
       "      <th>0</th>\n",
       "      <td>12</td>\n",
       "      <td>Debauchery, laughter, violence and politics. W...</td>\n",
       "      <td>{\"urls\":{\"web\":{\"discover\":\"http://www.kicksta...</td>\n",
       "      <td>NaN</td>\n",
       "      <td>GB</td>\n",
       "      <td>1431610619</td>\n",
       "      <td>{\"urls\":{\"web\":{\"user\":\"https://www.kickstarte...</td>\n",
       "      <td>GBP</td>\n",
       "      <td>£</td>\n",
       "      <td>False</td>\n",
       "      <td>...</td>\n",
       "      <td>royal-holloways-drama-society-presents-posh</td>\n",
       "      <td>https://www.kickstarter.com/discover/categorie...</td>\n",
       "      <td>True</td>\n",
       "      <td>False</td>\n",
       "      <td>successful</td>\n",
       "      <td>1433113212</td>\n",
       "      <td>1.572673</td>\n",
       "      <td>{\"web\":{\"project\":\"https://www.kickstarter.com...</td>\n",
       "      <td>379.014248</td>\n",
       "      <td>NaN</td>\n",
       "    </tr>\n",
       "    <tr>\n",
       "      <th>1</th>\n",
       "      <td>40</td>\n",
       "      <td>Bring a touring character education play about...</td>\n",
       "      <td>{\"urls\":{\"web\":{\"discover\":\"http://www.kicksta...</td>\n",
       "      <td>NaN</td>\n",
       "      <td>US</td>\n",
       "      <td>1402512498</td>\n",
       "      <td>{\"urls\":{\"web\":{\"user\":\"https://www.kickstarte...</td>\n",
       "      <td>USD</td>\n",
       "      <td>$</td>\n",
       "      <td>True</td>\n",
       "      <td>...</td>\n",
       "      <td>kylie-for-president</td>\n",
       "      <td>https://www.kickstarter.com/discover/categorie...</td>\n",
       "      <td>True</td>\n",
       "      <td>False</td>\n",
       "      <td>successful</td>\n",
       "      <td>1405915140</td>\n",
       "      <td>1.000000</td>\n",
       "      <td>{\"web\":{\"project\":\"https://www.kickstarter.com...</td>\n",
       "      <td>3530.000000</td>\n",
       "      <td>NaN</td>\n",
       "    </tr>\n",
       "    <tr>\n",
       "      <th>2</th>\n",
       "      <td>57</td>\n",
       "      <td>1984. An IRA bomb explodes at the Grand Hotel....</td>\n",
       "      <td>{\"urls\":{\"web\":{\"discover\":\"http://www.kicksta...</td>\n",
       "      <td>NaN</td>\n",
       "      <td>GB</td>\n",
       "      <td>1408884944</td>\n",
       "      <td>{\"urls\":{\"web\":{\"user\":\"https://www.kickstarte...</td>\n",
       "      <td>GBP</td>\n",
       "      <td>£</td>\n",
       "      <td>False</td>\n",
       "      <td>...</td>\n",
       "      <td>the-bombing-of-the-grand-hotel-a-compelling-ne...</td>\n",
       "      <td>https://www.kickstarter.com/discover/categorie...</td>\n",
       "      <td>True</td>\n",
       "      <td>False</td>\n",
       "      <td>successful</td>\n",
       "      <td>1411771384</td>\n",
       "      <td>1.658939</td>\n",
       "      <td>{\"web\":{\"project\":\"https://www.kickstarter.com...</td>\n",
       "      <td>5053.127524</td>\n",
       "      <td>NaN</td>\n",
       "    </tr>\n",
       "    <tr>\n",
       "      <th>3</th>\n",
       "      <td>114</td>\n",
       "      <td>Zoe is a teenage girl growing up in a deeply d...</td>\n",
       "      <td>{\"urls\":{\"web\":{\"discover\":\"http://www.kicksta...</td>\n",
       "      <td>NaN</td>\n",
       "      <td>GB</td>\n",
       "      <td>1406837195</td>\n",
       "      <td>{\"urls\":{\"web\":{\"user\":\"https://www.kickstarte...</td>\n",
       "      <td>GBP</td>\n",
       "      <td>£</td>\n",
       "      <td>False</td>\n",
       "      <td>...</td>\n",
       "      <td>child-z</td>\n",
       "      <td>https://www.kickstarter.com/discover/categorie...</td>\n",
       "      <td>True</td>\n",
       "      <td>False</td>\n",
       "      <td>successful</td>\n",
       "      <td>1415191920</td>\n",
       "      <td>1.618854</td>\n",
       "      <td>{\"web\":{\"project\":\"https://www.kickstarter.com...</td>\n",
       "      <td>7357.690612</td>\n",
       "      <td>NaN</td>\n",
       "    </tr>\n",
       "    <tr>\n",
       "      <th>4</th>\n",
       "      <td>31</td>\n",
       "      <td>Theaterprojekt 12. Kl. Waldorfschule Essen. 2 ...</td>\n",
       "      <td>{\"urls\":{\"web\":{\"discover\":\"http://www.kicksta...</td>\n",
       "      <td>NaN</td>\n",
       "      <td>DE</td>\n",
       "      <td>1467313927</td>\n",
       "      <td>{\"urls\":{\"web\":{\"user\":\"https://www.kickstarte...</td>\n",
       "      <td>EUR</td>\n",
       "      <td></td>\n",
       "      <td>False</td>\n",
       "      <td>...</td>\n",
       "      <td>fausthier-und-jetzt</td>\n",
       "      <td>https://www.kickstarter.com/discover/categorie...</td>\n",
       "      <td>True</td>\n",
       "      <td>False</td>\n",
       "      <td>successful</td>\n",
       "      <td>1472936230</td>\n",
       "      <td>1.113958</td>\n",
       "      <td>{\"web\":{\"project\":\"https://www.kickstarter.com...</td>\n",
       "      <td>5012.810505</td>\n",
       "      <td>NaN</td>\n",
       "    </tr>\n",
       "  </tbody>\n",
       "</table>\n",
       "<p>5 rows × 36 columns</p>\n",
       "</div>"
      ],
      "text/plain": [
       "   backers_count                                              blurb  \\\n",
       "0             12  Debauchery, laughter, violence and politics. W...   \n",
       "1             40  Bring a touring character education play about...   \n",
       "2             57  1984. An IRA bomb explodes at the Grand Hotel....   \n",
       "3            114  Zoe is a teenage girl growing up in a deeply d...   \n",
       "4             31  Theaterprojekt 12. Kl. Waldorfschule Essen. 2 ...   \n",
       "\n",
       "                                            category  \\\n",
       "0  {\"urls\":{\"web\":{\"discover\":\"http://www.kicksta...   \n",
       "1  {\"urls\":{\"web\":{\"discover\":\"http://www.kicksta...   \n",
       "2  {\"urls\":{\"web\":{\"discover\":\"http://www.kicksta...   \n",
       "3  {\"urls\":{\"web\":{\"discover\":\"http://www.kicksta...   \n",
       "4  {\"urls\":{\"web\":{\"discover\":\"http://www.kicksta...   \n",
       "\n",
       "   converted_pledged_amount country  created_at  \\\n",
       "0                       NaN      GB  1431610619   \n",
       "1                       NaN      US  1402512498   \n",
       "2                       NaN      GB  1408884944   \n",
       "3                       NaN      GB  1406837195   \n",
       "4                       NaN      DE  1467313927   \n",
       "\n",
       "                                             creator currency currency_symbol  \\\n",
       "0  {\"urls\":{\"web\":{\"user\":\"https://www.kickstarte...      GBP               £   \n",
       "1  {\"urls\":{\"web\":{\"user\":\"https://www.kickstarte...      USD               $   \n",
       "2  {\"urls\":{\"web\":{\"user\":\"https://www.kickstarte...      GBP               £   \n",
       "3  {\"urls\":{\"web\":{\"user\":\"https://www.kickstarte...      GBP               £   \n",
       "4  {\"urls\":{\"web\":{\"user\":\"https://www.kickstarte...      EUR                  \n",
       "\n",
       "   currency_trailing_code    ...     \\\n",
       "0                   False    ...      \n",
       "1                    True    ...      \n",
       "2                   False    ...      \n",
       "3                   False    ...      \n",
       "4                   False    ...      \n",
       "\n",
       "                                                slug  \\\n",
       "0        royal-holloways-drama-society-presents-posh   \n",
       "1                                kylie-for-president   \n",
       "2  the-bombing-of-the-grand-hotel-a-compelling-ne...   \n",
       "3                                            child-z   \n",
       "4                                fausthier-und-jetzt   \n",
       "\n",
       "                                          source_url  spotlight staff_pick  \\\n",
       "0  https://www.kickstarter.com/discover/categorie...       True      False   \n",
       "1  https://www.kickstarter.com/discover/categorie...       True      False   \n",
       "2  https://www.kickstarter.com/discover/categorie...       True      False   \n",
       "3  https://www.kickstarter.com/discover/categorie...       True      False   \n",
       "4  https://www.kickstarter.com/discover/categorie...       True      False   \n",
       "\n",
       "        state  state_changed_at static_usd_rate  \\\n",
       "0  successful        1433113212        1.572673   \n",
       "1  successful        1405915140        1.000000   \n",
       "2  successful        1411771384        1.658939   \n",
       "3  successful        1415191920        1.618854   \n",
       "4  successful        1472936230        1.113958   \n",
       "\n",
       "                                                urls  usd_pledged  usd_type  \n",
       "0  {\"web\":{\"project\":\"https://www.kickstarter.com...   379.014248       NaN  \n",
       "1  {\"web\":{\"project\":\"https://www.kickstarter.com...  3530.000000       NaN  \n",
       "2  {\"web\":{\"project\":\"https://www.kickstarter.com...  5053.127524       NaN  \n",
       "3  {\"web\":{\"project\":\"https://www.kickstarter.com...  7357.690612       NaN  \n",
       "4  {\"web\":{\"project\":\"https://www.kickstarter.com...  5012.810505       NaN  \n",
       "\n",
       "[5 rows x 36 columns]"
      ]
     },
     "execution_count": 38,
     "metadata": {},
     "output_type": "execute_result"
    }
   ],
   "source": [
    "len(concatenated_df)\n",
    "concatenated_df.head()"
   ]
  },
  {
   "cell_type": "code",
   "execution_count": null,
   "metadata": {
    "collapsed": true
   },
   "outputs": [],
   "source": []
  }
 ],
 "metadata": {
  "kernelspec": {
   "display_name": "Python [conda root]",
   "language": "python",
   "name": "conda-root-py"
  },
  "language_info": {
   "codemirror_mode": {
    "name": "ipython",
    "version": 3
   },
   "file_extension": ".py",
   "mimetype": "text/x-python",
   "name": "python",
   "nbconvert_exporter": "python",
   "pygments_lexer": "ipython3",
   "version": "3.6.1"
  }
 },
 "nbformat": 4,
 "nbformat_minor": 2
}
